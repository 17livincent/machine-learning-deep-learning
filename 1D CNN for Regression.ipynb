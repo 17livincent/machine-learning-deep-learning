{
 "cells": [
  {
   "cell_type": "markdown",
   "metadata": {},
   "source": [
    "# 1D Convolutional Neural Network for Regression"
   ]
  },
  {
   "cell_type": "code",
   "execution_count": 29,
   "metadata": {},
   "outputs": [],
   "source": [
    "import tensorflow as tf\n",
    "from tensorflow import keras\n",
    "from tensorflow.keras import layers\n",
    "\n",
    "import tensorflow_docs as tfdocs\n",
    "import tensorflow_docs.modeling"
   ]
  },
  {
   "cell_type": "markdown",
   "metadata": {},
   "source": [
    "## Import Data"
   ]
  },
  {
   "cell_type": "markdown",
   "metadata": {},
   "source": [
    "Use the energy efficiency dataset from UCI."
   ]
  },
  {
   "cell_type": "code",
   "execution_count": 30,
   "metadata": {},
   "outputs": [],
   "source": [
    "dataset_path = keras.utils.get_file(\"ENB2012_data.xlsx\", \"http://archive.ics.uci.edu/ml/machine-learning-databases/00242/ENB2012_data.xlsx\")"
   ]
  },
  {
   "cell_type": "code",
   "execution_count": 31,
   "metadata": {},
   "outputs": [],
   "source": [
    "import pandas as pd\n",
    "\n",
    "column_names = ['Relative Compactness', 'Surface Area', 'Wall Area', \n",
    "                'Roof Area', 'Overall Height', 'Orientation', \n",
    "                'Glazing Area', 'Glazing Area Distribution', \n",
    "                'Heating Load', 'Cooling Load']\n",
    "raw_dataset = pd.read_excel(dataset_path, names = column_names, \n",
    "                          na_values = '?', comment = '\\t', \n",
    "                          sep = ' ', skipinitialspace = True)\n",
    "dataset = raw_dataset.copy()"
   ]
  },
  {
   "cell_type": "code",
   "execution_count": 32,
   "metadata": {},
   "outputs": [
    {
     "data": {
      "text/html": [
       "<div>\n",
       "<style scoped>\n",
       "    .dataframe tbody tr th:only-of-type {\n",
       "        vertical-align: middle;\n",
       "    }\n",
       "\n",
       "    .dataframe tbody tr th {\n",
       "        vertical-align: top;\n",
       "    }\n",
       "\n",
       "    .dataframe thead th {\n",
       "        text-align: right;\n",
       "    }\n",
       "</style>\n",
       "<table border=\"1\" class=\"dataframe\">\n",
       "  <thead>\n",
       "    <tr style=\"text-align: right;\">\n",
       "      <th></th>\n",
       "      <th>Relative Compactness</th>\n",
       "      <th>Surface Area</th>\n",
       "      <th>Wall Area</th>\n",
       "      <th>Roof Area</th>\n",
       "      <th>Overall Height</th>\n",
       "      <th>Orientation</th>\n",
       "      <th>Glazing Area</th>\n",
       "      <th>Glazing Area Distribution</th>\n",
       "      <th>Heating Load</th>\n",
       "      <th>Cooling Load</th>\n",
       "    </tr>\n",
       "  </thead>\n",
       "  <tbody>\n",
       "    <tr>\n",
       "      <th>0</th>\n",
       "      <td>0.98</td>\n",
       "      <td>514.5</td>\n",
       "      <td>294.0</td>\n",
       "      <td>110.25</td>\n",
       "      <td>7.0</td>\n",
       "      <td>2</td>\n",
       "      <td>0.0</td>\n",
       "      <td>0</td>\n",
       "      <td>15.55</td>\n",
       "      <td>21.33</td>\n",
       "    </tr>\n",
       "    <tr>\n",
       "      <th>1</th>\n",
       "      <td>0.98</td>\n",
       "      <td>514.5</td>\n",
       "      <td>294.0</td>\n",
       "      <td>110.25</td>\n",
       "      <td>7.0</td>\n",
       "      <td>3</td>\n",
       "      <td>0.0</td>\n",
       "      <td>0</td>\n",
       "      <td>15.55</td>\n",
       "      <td>21.33</td>\n",
       "    </tr>\n",
       "    <tr>\n",
       "      <th>2</th>\n",
       "      <td>0.98</td>\n",
       "      <td>514.5</td>\n",
       "      <td>294.0</td>\n",
       "      <td>110.25</td>\n",
       "      <td>7.0</td>\n",
       "      <td>4</td>\n",
       "      <td>0.0</td>\n",
       "      <td>0</td>\n",
       "      <td>15.55</td>\n",
       "      <td>21.33</td>\n",
       "    </tr>\n",
       "    <tr>\n",
       "      <th>3</th>\n",
       "      <td>0.98</td>\n",
       "      <td>514.5</td>\n",
       "      <td>294.0</td>\n",
       "      <td>110.25</td>\n",
       "      <td>7.0</td>\n",
       "      <td>5</td>\n",
       "      <td>0.0</td>\n",
       "      <td>0</td>\n",
       "      <td>15.55</td>\n",
       "      <td>21.33</td>\n",
       "    </tr>\n",
       "    <tr>\n",
       "      <th>4</th>\n",
       "      <td>0.90</td>\n",
       "      <td>563.5</td>\n",
       "      <td>318.5</td>\n",
       "      <td>122.50</td>\n",
       "      <td>7.0</td>\n",
       "      <td>2</td>\n",
       "      <td>0.0</td>\n",
       "      <td>0</td>\n",
       "      <td>20.84</td>\n",
       "      <td>28.28</td>\n",
       "    </tr>\n",
       "  </tbody>\n",
       "</table>\n",
       "</div>"
      ],
      "text/plain": [
       "   Relative Compactness  Surface Area  Wall Area  Roof Area  Overall Height  \\\n",
       "0                  0.98         514.5      294.0     110.25             7.0   \n",
       "1                  0.98         514.5      294.0     110.25             7.0   \n",
       "2                  0.98         514.5      294.0     110.25             7.0   \n",
       "3                  0.98         514.5      294.0     110.25             7.0   \n",
       "4                  0.90         563.5      318.5     122.50             7.0   \n",
       "\n",
       "   Orientation  Glazing Area  Glazing Area Distribution  Heating Load  \\\n",
       "0            2           0.0                          0         15.55   \n",
       "1            3           0.0                          0         15.55   \n",
       "2            4           0.0                          0         15.55   \n",
       "3            5           0.0                          0         15.55   \n",
       "4            2           0.0                          0         20.84   \n",
       "\n",
       "   Cooling Load  \n",
       "0         21.33  \n",
       "1         21.33  \n",
       "2         21.33  \n",
       "3         21.33  \n",
       "4         28.28  "
      ]
     },
     "execution_count": 32,
     "metadata": {},
     "output_type": "execute_result"
    }
   ],
   "source": [
    "dataset.head()"
   ]
  },
  {
   "cell_type": "code",
   "execution_count": 33,
   "metadata": {},
   "outputs": [
    {
     "data": {
      "text/html": [
       "<div>\n",
       "<style scoped>\n",
       "    .dataframe tbody tr th:only-of-type {\n",
       "        vertical-align: middle;\n",
       "    }\n",
       "\n",
       "    .dataframe tbody tr th {\n",
       "        vertical-align: top;\n",
       "    }\n",
       "\n",
       "    .dataframe thead th {\n",
       "        text-align: right;\n",
       "    }\n",
       "</style>\n",
       "<table border=\"1\" class=\"dataframe\">\n",
       "  <thead>\n",
       "    <tr style=\"text-align: right;\">\n",
       "      <th></th>\n",
       "      <th>Relative Compactness</th>\n",
       "      <th>Surface Area</th>\n",
       "      <th>Wall Area</th>\n",
       "      <th>Roof Area</th>\n",
       "      <th>Overall Height</th>\n",
       "      <th>Orientation</th>\n",
       "      <th>Glazing Area</th>\n",
       "      <th>Glazing Area Distribution</th>\n",
       "      <th>Heating Load</th>\n",
       "      <th>Cooling Load</th>\n",
       "    </tr>\n",
       "  </thead>\n",
       "  <tbody>\n",
       "    <tr>\n",
       "      <th>count</th>\n",
       "      <td>768.000000</td>\n",
       "      <td>768.000000</td>\n",
       "      <td>768.000000</td>\n",
       "      <td>768.000000</td>\n",
       "      <td>768.00000</td>\n",
       "      <td>768.000000</td>\n",
       "      <td>768.000000</td>\n",
       "      <td>768.00000</td>\n",
       "      <td>768.000000</td>\n",
       "      <td>768.000000</td>\n",
       "    </tr>\n",
       "    <tr>\n",
       "      <th>mean</th>\n",
       "      <td>0.764167</td>\n",
       "      <td>671.708333</td>\n",
       "      <td>318.500000</td>\n",
       "      <td>176.604167</td>\n",
       "      <td>5.25000</td>\n",
       "      <td>3.500000</td>\n",
       "      <td>0.234375</td>\n",
       "      <td>2.81250</td>\n",
       "      <td>22.307195</td>\n",
       "      <td>24.587760</td>\n",
       "    </tr>\n",
       "    <tr>\n",
       "      <th>std</th>\n",
       "      <td>0.105777</td>\n",
       "      <td>88.086116</td>\n",
       "      <td>43.626481</td>\n",
       "      <td>45.165950</td>\n",
       "      <td>1.75114</td>\n",
       "      <td>1.118763</td>\n",
       "      <td>0.133221</td>\n",
       "      <td>1.55096</td>\n",
       "      <td>10.090204</td>\n",
       "      <td>9.513306</td>\n",
       "    </tr>\n",
       "    <tr>\n",
       "      <th>min</th>\n",
       "      <td>0.620000</td>\n",
       "      <td>514.500000</td>\n",
       "      <td>245.000000</td>\n",
       "      <td>110.250000</td>\n",
       "      <td>3.50000</td>\n",
       "      <td>2.000000</td>\n",
       "      <td>0.000000</td>\n",
       "      <td>0.00000</td>\n",
       "      <td>6.010000</td>\n",
       "      <td>10.900000</td>\n",
       "    </tr>\n",
       "    <tr>\n",
       "      <th>25%</th>\n",
       "      <td>0.682500</td>\n",
       "      <td>606.375000</td>\n",
       "      <td>294.000000</td>\n",
       "      <td>140.875000</td>\n",
       "      <td>3.50000</td>\n",
       "      <td>2.750000</td>\n",
       "      <td>0.100000</td>\n",
       "      <td>1.75000</td>\n",
       "      <td>12.992500</td>\n",
       "      <td>15.620000</td>\n",
       "    </tr>\n",
       "    <tr>\n",
       "      <th>50%</th>\n",
       "      <td>0.750000</td>\n",
       "      <td>673.750000</td>\n",
       "      <td>318.500000</td>\n",
       "      <td>183.750000</td>\n",
       "      <td>5.25000</td>\n",
       "      <td>3.500000</td>\n",
       "      <td>0.250000</td>\n",
       "      <td>3.00000</td>\n",
       "      <td>18.950000</td>\n",
       "      <td>22.080000</td>\n",
       "    </tr>\n",
       "    <tr>\n",
       "      <th>75%</th>\n",
       "      <td>0.830000</td>\n",
       "      <td>741.125000</td>\n",
       "      <td>343.000000</td>\n",
       "      <td>220.500000</td>\n",
       "      <td>7.00000</td>\n",
       "      <td>4.250000</td>\n",
       "      <td>0.400000</td>\n",
       "      <td>4.00000</td>\n",
       "      <td>31.667500</td>\n",
       "      <td>33.132500</td>\n",
       "    </tr>\n",
       "    <tr>\n",
       "      <th>max</th>\n",
       "      <td>0.980000</td>\n",
       "      <td>808.500000</td>\n",
       "      <td>416.500000</td>\n",
       "      <td>220.500000</td>\n",
       "      <td>7.00000</td>\n",
       "      <td>5.000000</td>\n",
       "      <td>0.400000</td>\n",
       "      <td>5.00000</td>\n",
       "      <td>43.100000</td>\n",
       "      <td>48.030000</td>\n",
       "    </tr>\n",
       "  </tbody>\n",
       "</table>\n",
       "</div>"
      ],
      "text/plain": [
       "       Relative Compactness  Surface Area   Wall Area   Roof Area  \\\n",
       "count            768.000000    768.000000  768.000000  768.000000   \n",
       "mean               0.764167    671.708333  318.500000  176.604167   \n",
       "std                0.105777     88.086116   43.626481   45.165950   \n",
       "min                0.620000    514.500000  245.000000  110.250000   \n",
       "25%                0.682500    606.375000  294.000000  140.875000   \n",
       "50%                0.750000    673.750000  318.500000  183.750000   \n",
       "75%                0.830000    741.125000  343.000000  220.500000   \n",
       "max                0.980000    808.500000  416.500000  220.500000   \n",
       "\n",
       "       Overall Height  Orientation  Glazing Area  Glazing Area Distribution  \\\n",
       "count       768.00000   768.000000    768.000000                  768.00000   \n",
       "mean          5.25000     3.500000      0.234375                    2.81250   \n",
       "std           1.75114     1.118763      0.133221                    1.55096   \n",
       "min           3.50000     2.000000      0.000000                    0.00000   \n",
       "25%           3.50000     2.750000      0.100000                    1.75000   \n",
       "50%           5.25000     3.500000      0.250000                    3.00000   \n",
       "75%           7.00000     4.250000      0.400000                    4.00000   \n",
       "max           7.00000     5.000000      0.400000                    5.00000   \n",
       "\n",
       "       Heating Load  Cooling Load  \n",
       "count    768.000000    768.000000  \n",
       "mean      22.307195     24.587760  \n",
       "std       10.090204      9.513306  \n",
       "min        6.010000     10.900000  \n",
       "25%       12.992500     15.620000  \n",
       "50%       18.950000     22.080000  \n",
       "75%       31.667500     33.132500  \n",
       "max       43.100000     48.030000  "
      ]
     },
     "execution_count": 33,
     "metadata": {},
     "output_type": "execute_result"
    }
   ],
   "source": [
    "dataset.describe()"
   ]
  },
  {
   "cell_type": "markdown",
   "metadata": {},
   "source": [
    "## Preprocess data"
   ]
  },
  {
   "cell_type": "code",
   "execution_count": 34,
   "metadata": {},
   "outputs": [
    {
     "data": {
      "text/plain": [
       "Relative Compactness         0\n",
       "Surface Area                 0\n",
       "Wall Area                    0\n",
       "Roof Area                    0\n",
       "Overall Height               0\n",
       "Orientation                  0\n",
       "Glazing Area                 0\n",
       "Glazing Area Distribution    0\n",
       "Heating Load                 0\n",
       "Cooling Load                 0\n",
       "dtype: int64"
      ]
     },
     "execution_count": 34,
     "metadata": {},
     "output_type": "execute_result"
    }
   ],
   "source": [
    "dataset.isna().sum()\n",
    "# No NA's"
   ]
  },
  {
   "cell_type": "code",
   "execution_count": 35,
   "metadata": {},
   "outputs": [],
   "source": [
    "# Split train/test data\n",
    "total_train = dataset.sample(frac = 0.8, random_state = 0)\n",
    "total_valid = dataset.drop(total_train.index)\n",
    "\n",
    "# Predict Heating Load\n",
    "y_train = total_train.pop('Heating Load')\n",
    "y_valid = total_valid.pop('Heating Load')\n",
    "X_train = total_train\n",
    "X_valid = total_valid"
   ]
  },
  {
   "cell_type": "code",
   "execution_count": 36,
   "metadata": {},
   "outputs": [],
   "source": [
    "# Normalize\n",
    "X_train = tf.keras.utils.normalize(X_train, axis = -1, order = 2)\n",
    "X_valid = tf.keras.utils.normalize(X_valid, axis = -1, order = 2)"
   ]
  },
  {
   "cell_type": "code",
   "execution_count": 37,
   "metadata": {},
   "outputs": [
    {
     "data": {
      "text/html": [
       "<div>\n",
       "<style scoped>\n",
       "    .dataframe tbody tr th:only-of-type {\n",
       "        vertical-align: middle;\n",
       "    }\n",
       "\n",
       "    .dataframe tbody tr th {\n",
       "        vertical-align: top;\n",
       "    }\n",
       "\n",
       "    .dataframe thead th {\n",
       "        text-align: right;\n",
       "    }\n",
       "</style>\n",
       "<table border=\"1\" class=\"dataframe\">\n",
       "  <thead>\n",
       "    <tr style=\"text-align: right;\">\n",
       "      <th></th>\n",
       "      <th>Relative Compactness</th>\n",
       "      <th>Surface Area</th>\n",
       "      <th>Wall Area</th>\n",
       "      <th>Roof Area</th>\n",
       "      <th>Overall Height</th>\n",
       "      <th>Orientation</th>\n",
       "      <th>Glazing Area</th>\n",
       "      <th>Glazing Area Distribution</th>\n",
       "      <th>Cooling Load</th>\n",
       "    </tr>\n",
       "  </thead>\n",
       "  <tbody>\n",
       "    <tr>\n",
       "      <th>661</th>\n",
       "      <td>0.000774</td>\n",
       "      <td>0.890610</td>\n",
       "      <td>0.373482</td>\n",
       "      <td>0.258564</td>\n",
       "      <td>0.004104</td>\n",
       "      <td>0.003518</td>\n",
       "      <td>0.000469</td>\n",
       "      <td>0.003518</td>\n",
       "      <td>0.020673</td>\n",
       "    </tr>\n",
       "    <tr>\n",
       "      <th>122</th>\n",
       "      <td>0.000972</td>\n",
       "      <td>0.901183</td>\n",
       "      <td>0.321851</td>\n",
       "      <td>0.289666</td>\n",
       "      <td>0.004598</td>\n",
       "      <td>0.005255</td>\n",
       "      <td>0.000131</td>\n",
       "      <td>0.002627</td>\n",
       "      <td>0.017827</td>\n",
       "    </tr>\n",
       "    <tr>\n",
       "      <th>113</th>\n",
       "      <td>0.001069</td>\n",
       "      <td>0.861844</td>\n",
       "      <td>0.464070</td>\n",
       "      <td>0.198887</td>\n",
       "      <td>0.009471</td>\n",
       "      <td>0.004059</td>\n",
       "      <td>0.000135</td>\n",
       "      <td>0.002706</td>\n",
       "      <td>0.046840</td>\n",
       "    </tr>\n",
       "    <tr>\n",
       "      <th>14</th>\n",
       "      <td>0.001161</td>\n",
       "      <td>0.867316</td>\n",
       "      <td>0.451004</td>\n",
       "      <td>0.208156</td>\n",
       "      <td>0.009912</td>\n",
       "      <td>0.005664</td>\n",
       "      <td>0.000000</td>\n",
       "      <td>0.000000</td>\n",
       "      <td>0.029963</td>\n",
       "    </tr>\n",
       "    <tr>\n",
       "      <th>529</th>\n",
       "      <td>0.001623</td>\n",
       "      <td>0.852222</td>\n",
       "      <td>0.486984</td>\n",
       "      <td>0.182619</td>\n",
       "      <td>0.011595</td>\n",
       "      <td>0.004969</td>\n",
       "      <td>0.000663</td>\n",
       "      <td>0.001656</td>\n",
       "      <td>0.055225</td>\n",
       "    </tr>\n",
       "  </tbody>\n",
       "</table>\n",
       "</div>"
      ],
      "text/plain": [
       "     Relative Compactness  Surface Area  Wall Area  Roof Area  Overall Height  \\\n",
       "661              0.000774      0.890610   0.373482   0.258564        0.004104   \n",
       "122              0.000972      0.901183   0.321851   0.289666        0.004598   \n",
       "113              0.001069      0.861844   0.464070   0.198887        0.009471   \n",
       "14               0.001161      0.867316   0.451004   0.208156        0.009912   \n",
       "529              0.001623      0.852222   0.486984   0.182619        0.011595   \n",
       "\n",
       "     Orientation  Glazing Area  Glazing Area Distribution  Cooling Load  \n",
       "661     0.003518      0.000469                   0.003518      0.020673  \n",
       "122     0.005255      0.000131                   0.002627      0.017827  \n",
       "113     0.004059      0.000135                   0.002706      0.046840  \n",
       "14      0.005664      0.000000                   0.000000      0.029963  \n",
       "529     0.004969      0.000663                   0.001656      0.055225  "
      ]
     },
     "execution_count": 37,
     "metadata": {},
     "output_type": "execute_result"
    }
   ],
   "source": [
    "X_train.head()"
   ]
  },
  {
   "cell_type": "code",
   "execution_count": 38,
   "metadata": {},
   "outputs": [],
   "source": [
    "# Reshape\n",
    "import pandas as pd\n",
    "\n",
    "X_train = X_train.to_numpy()\n",
    "X_train = X_train.reshape(X_train.shape[0], X_train.shape[1], 1)\n",
    "X_valid = X_valid.to_numpy()\n",
    "X_valid = X_valid.reshape(X_valid.shape[0], X_valid.shape[1], 1)"
   ]
  },
  {
   "cell_type": "markdown",
   "metadata": {},
   "source": [
    "## Build model"
   ]
  },
  {
   "cell_type": "code",
   "execution_count": 68,
   "metadata": {},
   "outputs": [],
   "source": [
    "def build_model():\n",
    "    model = keras.Sequential([\n",
    "        layers.Conv1D(filters = 32, kernel_size = 3, activation = 'relu', \n",
    "                      input_shape = (9, 1)),\n",
    "        layers.Conv1D(filters = 64, kernel_size = 3, activation = 'relu'),\n",
    "        layers.Dropout(0.5),\n",
    "        layers.MaxPooling1D(pool_size = 2),\n",
    "        layers.Flatten(),\n",
    "        layers.Dense(64, activation = 'relu'),\n",
    "        layers.Dense(1)\n",
    "    ])\n",
    "    \n",
    "    optimizer = 'adam'#tf.keras.optimizers.RMSprop(0.001)\n",
    "    \n",
    "    model.compile(loss = 'mse',\n",
    "                 optimizer = optimizer,\n",
    "                 metrics = ['mae', 'mse'])\n",
    "    \n",
    "    return model"
   ]
  },
  {
   "cell_type": "code",
   "execution_count": 69,
   "metadata": {},
   "outputs": [],
   "source": [
    "model = build_model()"
   ]
  },
  {
   "cell_type": "code",
   "execution_count": 70,
   "metadata": {},
   "outputs": [
    {
     "name": "stdout",
     "output_type": "stream",
     "text": [
      "Model: \"sequential_6\"\n",
      "_________________________________________________________________\n",
      "Layer (type)                 Output Shape              Param #   \n",
      "=================================================================\n",
      "conv1d_12 (Conv1D)           (None, 7, 32)             128       \n",
      "_________________________________________________________________\n",
      "conv1d_13 (Conv1D)           (None, 5, 64)             6208      \n",
      "_________________________________________________________________\n",
      "dropout_6 (Dropout)          (None, 5, 64)             0         \n",
      "_________________________________________________________________\n",
      "max_pooling1d_6 (MaxPooling1 (None, 2, 64)             0         \n",
      "_________________________________________________________________\n",
      "flatten_6 (Flatten)          (None, 128)               0         \n",
      "_________________________________________________________________\n",
      "dense_12 (Dense)             (None, 64)                8256      \n",
      "_________________________________________________________________\n",
      "dense_13 (Dense)             (None, 1)                 65        \n",
      "=================================================================\n",
      "Total params: 14,657\n",
      "Trainable params: 14,657\n",
      "Non-trainable params: 0\n",
      "_________________________________________________________________\n"
     ]
    }
   ],
   "source": [
    "model.summary()"
   ]
  },
  {
   "cell_type": "markdown",
   "metadata": {},
   "source": [
    "## Train the model"
   ]
  },
  {
   "cell_type": "code",
   "execution_count": 71,
   "metadata": {},
   "outputs": [
    {
     "name": "stdout",
     "output_type": "stream",
     "text": [
      "Epoch 1/100\n",
      "20/20 [==============================] - 0s 15ms/step - loss: 601.3372 - mae: 22.3670 - mse: 601.3372 - val_loss: 508.3017 - val_mae: 20.1776 - val_mse: 508.3017\n",
      "Epoch 2/100\n",
      "20/20 [==============================] - 0s 9ms/step - loss: 505.1253 - mae: 20.1068 - mse: 505.1253 - val_loss: 372.2412 - val_mae: 16.4771 - val_mse: 372.2412\n",
      "Epoch 3/100\n",
      "20/20 [==============================] - 0s 7ms/step - loss: 223.1844 - mae: 11.8632 - mse: 223.1844 - val_loss: 114.7377 - val_mae: 8.3748 - val_mse: 114.7377\n",
      "Epoch 4/100\n",
      "20/20 [==============================] - 0s 10ms/step - loss: 110.9757 - mae: 9.3614 - mse: 110.9757 - val_loss: 121.0267 - val_mae: 8.3299 - val_mse: 121.0267\n",
      "Epoch 5/100\n",
      "20/20 [==============================] - 0s 10ms/step - loss: 103.5675 - mae: 9.0513 - mse: 103.5675 - val_loss: 117.7750 - val_mae: 8.3194 - val_mse: 117.7750\n",
      "Epoch 6/100\n",
      "20/20 [==============================] - 0s 10ms/step - loss: 103.9297 - mae: 9.0657 - mse: 103.9297 - val_loss: 118.6649 - val_mae: 8.2994 - val_mse: 118.6649\n",
      "Epoch 7/100\n",
      "20/20 [==============================] - 0s 11ms/step - loss: 101.7169 - mae: 9.0035 - mse: 101.7169 - val_loss: 120.9703 - val_mae: 8.2750 - val_mse: 120.9703\n",
      "Epoch 8/100\n",
      "20/20 [==============================] - 0s 15ms/step - loss: 102.6842 - mae: 8.9644 - mse: 102.6842 - val_loss: 116.9095 - val_mae: 8.2633 - val_mse: 116.9095\n",
      "Epoch 9/100\n",
      "20/20 [==============================] - 0s 11ms/step - loss: 99.4469 - mae: 8.9043 - mse: 99.4469 - val_loss: 121.6706 - val_mae: 8.2294 - val_mse: 121.6706\n",
      "Epoch 10/100\n",
      "20/20 [==============================] - 0s 12ms/step - loss: 100.6712 - mae: 8.8660 - mse: 100.6712 - val_loss: 113.7374 - val_mae: 8.2240 - val_mse: 113.7374\n",
      "Epoch 11/100\n",
      "20/20 [==============================] - 0s 15ms/step - loss: 103.1814 - mae: 9.0605 - mse: 103.1814 - val_loss: 124.6136 - val_mae: 8.1735 - val_mse: 124.6136\n",
      "Epoch 12/100\n",
      "20/20 [==============================] - 0s 15ms/step - loss: 100.8545 - mae: 8.8450 - mse: 100.8545 - val_loss: 108.0857 - val_mae: 8.2093 - val_mse: 108.0857\n",
      "Epoch 13/100\n",
      "20/20 [==============================] - 0s 14ms/step - loss: 100.3051 - mae: 8.9166 - mse: 100.3051 - val_loss: 122.5877 - val_mae: 8.1137 - val_mse: 122.5877\n",
      "Epoch 14/100\n",
      "20/20 [==============================] - 0s 11ms/step - loss: 99.2653 - mae: 8.8434 - mse: 99.2653 - val_loss: 114.1073 - val_mae: 8.0867 - val_mse: 114.1073\n",
      "Epoch 15/100\n",
      "20/20 [==============================] - 0s 9ms/step - loss: 98.0753 - mae: 8.8575 - mse: 98.0753 - val_loss: 117.8805 - val_mae: 8.0369 - val_mse: 117.8805\n",
      "Epoch 16/100\n",
      "20/20 [==============================] - 0s 11ms/step - loss: 99.3926 - mae: 8.8822 - mse: 99.3926 - val_loss: 112.8939 - val_mae: 7.9957 - val_mse: 112.8939\n",
      "Epoch 17/100\n",
      "20/20 [==============================] - 0s 14ms/step - loss: 94.7262 - mae: 8.6184 - mse: 94.7262 - val_loss: 109.7064 - val_mae: 7.9467 - val_mse: 109.7064\n",
      "Epoch 18/100\n",
      "20/20 [==============================] - 0s 14ms/step - loss: 100.9899 - mae: 8.9060 - mse: 100.9899 - val_loss: 117.3131 - val_mae: 7.8823 - val_mse: 117.3131\n",
      "Epoch 19/100\n",
      "20/20 [==============================] - 0s 13ms/step - loss: 93.9353 - mae: 8.6336 - mse: 93.9353 - val_loss: 110.5483 - val_mae: 7.8220 - val_mse: 110.5483\n",
      "Epoch 20/100\n",
      "20/20 [==============================] - 0s 17ms/step - loss: 96.6799 - mae: 8.6599 - mse: 96.6799 - val_loss: 109.0648 - val_mae: 7.7500 - val_mse: 109.0648\n",
      "Epoch 21/100\n",
      "20/20 [==============================] - 0s 17ms/step - loss: 92.9909 - mae: 8.5420 - mse: 92.9909 - val_loss: 111.7629 - val_mae: 7.6659 - val_mse: 111.7628\n",
      "Epoch 22/100\n",
      "20/20 [==============================] - 0s 16ms/step - loss: 92.2327 - mae: 8.5314 - mse: 92.2327 - val_loss: 108.3815 - val_mae: 7.5785 - val_mse: 108.3815\n",
      "Epoch 23/100\n",
      "20/20 [==============================] - 0s 17ms/step - loss: 93.2525 - mae: 8.5120 - mse: 93.2525 - val_loss: 107.0473 - val_mae: 7.4805 - val_mse: 107.0473\n",
      "Epoch 24/100\n",
      "20/20 [==============================] - 0s 15ms/step - loss: 88.8427 - mae: 8.3881 - mse: 88.8427 - val_loss: 105.0278 - val_mae: 7.3772 - val_mse: 105.0278\n",
      "Epoch 25/100\n",
      "20/20 [==============================] - 0s 15ms/step - loss: 84.9973 - mae: 8.1459 - mse: 84.9973 - val_loss: 97.4124 - val_mae: 7.2342 - val_mse: 97.4124\n",
      "Epoch 26/100\n",
      "20/20 [==============================] - 0s 17ms/step - loss: 82.4858 - mae: 7.9796 - mse: 82.4858 - val_loss: 101.4356 - val_mae: 7.1747 - val_mse: 101.4356\n",
      "Epoch 27/100\n",
      "20/20 [==============================] - 0s 15ms/step - loss: 79.9266 - mae: 7.8975 - mse: 79.9266 - val_loss: 102.4075 - val_mae: 7.1630 - val_mse: 102.4075\n",
      "Epoch 28/100\n",
      "20/20 [==============================] - 0s 16ms/step - loss: 80.7669 - mae: 7.8857 - mse: 80.7669 - val_loss: 96.3918 - val_mae: 6.9554 - val_mse: 96.3918\n",
      "Epoch 29/100\n",
      "20/20 [==============================] - 0s 9ms/step - loss: 79.5431 - mae: 7.6160 - mse: 79.5431 - val_loss: 77.4568 - val_mae: 6.5663 - val_mse: 77.4568\n",
      "Epoch 30/100\n",
      "20/20 [==============================] - 0s 13ms/step - loss: 75.1635 - mae: 7.5416 - mse: 75.1635 - val_loss: 79.7203 - val_mae: 6.4190 - val_mse: 79.7203\n",
      "Epoch 31/100\n",
      "20/20 [==============================] - 0s 18ms/step - loss: 69.5975 - mae: 7.2386 - mse: 69.5975 - val_loss: 84.0188 - val_mae: 6.4597 - val_mse: 84.0188\n",
      "Epoch 32/100\n",
      "20/20 [==============================] - 0s 16ms/step - loss: 66.4043 - mae: 7.0965 - mse: 66.4043 - val_loss: 80.6577 - val_mae: 6.2999 - val_mse: 80.6577\n",
      "Epoch 33/100\n",
      "20/20 [==============================] - 0s 17ms/step - loss: 65.0932 - mae: 6.8658 - mse: 65.0932 - val_loss: 71.0618 - val_mae: 5.9149 - val_mse: 71.0618\n",
      "Epoch 34/100\n",
      "20/20 [==============================] - 0s 17ms/step - loss: 57.8126 - mae: 6.4145 - mse: 57.8126 - val_loss: 76.2465 - val_mae: 6.1162 - val_mse: 76.2465\n",
      "Epoch 35/100\n",
      "20/20 [==============================] - 0s 17ms/step - loss: 54.1152 - mae: 6.2232 - mse: 54.1152 - val_loss: 62.2586 - val_mae: 5.5109 - val_mse: 62.2586\n",
      "Epoch 36/100\n",
      "20/20 [==============================] - 0s 13ms/step - loss: 51.6443 - mae: 5.8711 - mse: 51.6443 - val_loss: 51.1262 - val_mae: 5.0182 - val_mse: 51.1262\n",
      "Epoch 37/100\n",
      "20/20 [==============================] - 0s 17ms/step - loss: 45.2931 - mae: 5.5257 - mse: 45.2931 - val_loss: 48.3277 - val_mae: 4.8466 - val_mse: 48.3277\n",
      "Epoch 38/100\n",
      "20/20 [==============================] - 0s 14ms/step - loss: 47.0355 - mae: 5.5735 - mse: 47.0355 - val_loss: 45.5346 - val_mae: 4.7120 - val_mse: 45.5346\n",
      "Epoch 39/100\n",
      "20/20 [==============================] - 0s 12ms/step - loss: 45.3003 - mae: 5.3581 - mse: 45.3003 - val_loss: 45.3187 - val_mae: 4.7142 - val_mse: 45.3187\n",
      "Epoch 40/100\n",
      "20/20 [==============================] - 0s 15ms/step - loss: 39.2803 - mae: 4.9645 - mse: 39.2803 - val_loss: 56.9054 - val_mae: 5.4515 - val_mse: 56.9054\n",
      "Epoch 41/100\n",
      "20/20 [==============================] - 0s 19ms/step - loss: 41.6966 - mae: 4.9756 - mse: 41.6966 - val_loss: 51.2809 - val_mae: 5.1819 - val_mse: 51.2809\n",
      "Epoch 42/100\n",
      "20/20 [==============================] - 0s 16ms/step - loss: 39.8356 - mae: 4.8472 - mse: 39.8356 - val_loss: 46.5835 - val_mae: 4.9571 - val_mse: 46.5835\n",
      "Epoch 43/100\n",
      "20/20 [==============================] - 0s 15ms/step - loss: 37.8180 - mae: 4.6873 - mse: 37.8180 - val_loss: 49.0266 - val_mae: 5.2094 - val_mse: 49.0266\n",
      "Epoch 44/100\n",
      "20/20 [==============================] - 0s 10ms/step - loss: 38.1582 - mae: 4.6834 - mse: 38.1582 - val_loss: 44.9737 - val_mae: 4.9583 - val_mse: 44.9737\n",
      "Epoch 45/100\n",
      "20/20 [==============================] - 0s 10ms/step - loss: 33.5474 - mae: 4.3652 - mse: 33.5474 - val_loss: 39.2076 - val_mae: 4.5953 - val_mse: 39.2076\n",
      "Epoch 46/100\n",
      "20/20 [==============================] - 0s 10ms/step - loss: 35.0775 - mae: 4.4363 - mse: 35.0775 - val_loss: 35.4573 - val_mae: 4.3579 - val_mse: 35.4573\n",
      "Epoch 47/100\n",
      "20/20 [==============================] - 0s 18ms/step - loss: 35.0250 - mae: 4.4810 - mse: 35.0250 - val_loss: 42.1176 - val_mae: 4.8830 - val_mse: 42.1176\n",
      "Epoch 48/100\n",
      "20/20 [==============================] - 0s 19ms/step - loss: 34.5606 - mae: 4.3082 - mse: 34.5606 - val_loss: 40.6686 - val_mae: 4.7768 - val_mse: 40.6686\n",
      "Epoch 49/100\n"
     ]
    },
    {
     "name": "stdout",
     "output_type": "stream",
     "text": [
      "20/20 [==============================] - 0s 14ms/step - loss: 35.2746 - mae: 4.4263 - mse: 35.2746 - val_loss: 33.4849 - val_mae: 4.1655 - val_mse: 33.4849\n",
      "Epoch 50/100\n",
      "20/20 [==============================] - 0s 15ms/step - loss: 35.1979 - mae: 4.4257 - mse: 35.1979 - val_loss: 38.2297 - val_mae: 4.5863 - val_mse: 38.2297\n",
      "Epoch 51/100\n",
      "20/20 [==============================] - 0s 20ms/step - loss: 32.0329 - mae: 4.2044 - mse: 32.0329 - val_loss: 36.9121 - val_mae: 4.5465 - val_mse: 36.9121\n",
      "Epoch 52/100\n",
      "20/20 [==============================] - 0s 13ms/step - loss: 31.3246 - mae: 4.2093 - mse: 31.3246 - val_loss: 31.5527 - val_mae: 4.1331 - val_mse: 31.5527\n",
      "Epoch 53/100\n",
      "20/20 [==============================] - 0s 19ms/step - loss: 33.3645 - mae: 4.3403 - mse: 33.3645 - val_loss: 31.0705 - val_mae: 4.1059 - val_mse: 31.0705\n",
      "Epoch 54/100\n",
      "20/20 [==============================] - 0s 18ms/step - loss: 30.9593 - mae: 4.1394 - mse: 30.9593 - val_loss: 34.0699 - val_mae: 4.3512 - val_mse: 34.0699\n",
      "Epoch 55/100\n",
      "20/20 [==============================] - 0s 10ms/step - loss: 29.9491 - mae: 4.1199 - mse: 29.9491 - val_loss: 33.2600 - val_mae: 4.2798 - val_mse: 33.2600\n",
      "Epoch 56/100\n",
      "20/20 [==============================] - 0s 14ms/step - loss: 31.6864 - mae: 4.1221 - mse: 31.6864 - val_loss: 26.5284 - val_mae: 3.7620 - val_mse: 26.5284\n",
      "Epoch 57/100\n",
      "20/20 [==============================] - 0s 14ms/step - loss: 30.6144 - mae: 4.0747 - mse: 30.6144 - val_loss: 29.8518 - val_mae: 4.0547 - val_mse: 29.8518\n",
      "Epoch 58/100\n",
      "20/20 [==============================] - 0s 18ms/step - loss: 29.7548 - mae: 4.0412 - mse: 29.7548 - val_loss: 28.6308 - val_mae: 3.9515 - val_mse: 28.6308\n",
      "Epoch 59/100\n",
      "20/20 [==============================] - 0s 17ms/step - loss: 30.5018 - mae: 4.0806 - mse: 30.5018 - val_loss: 28.5808 - val_mae: 3.9623 - val_mse: 28.5808\n",
      "Epoch 60/100\n",
      "20/20 [==============================] - 0s 15ms/step - loss: 31.8331 - mae: 4.0826 - mse: 31.8331 - val_loss: 35.2131 - val_mae: 4.5467 - val_mse: 35.2131\n",
      "Epoch 61/100\n",
      "20/20 [==============================] - 0s 11ms/step - loss: 29.4798 - mae: 3.9910 - mse: 29.4798 - val_loss: 28.2354 - val_mae: 3.9266 - val_mse: 28.2354\n",
      "Epoch 62/100\n",
      "20/20 [==============================] - 0s 16ms/step - loss: 33.0494 - mae: 4.1822 - mse: 33.0494 - val_loss: 31.5475 - val_mae: 4.2561 - val_mse: 31.5475\n",
      "Epoch 63/100\n",
      "20/20 [==============================] - 0s 12ms/step - loss: 30.2520 - mae: 4.0374 - mse: 30.2520 - val_loss: 37.5384 - val_mae: 4.7010 - val_mse: 37.5384\n",
      "Epoch 64/100\n",
      "20/20 [==============================] - 0s 21ms/step - loss: 28.0384 - mae: 3.9445 - mse: 28.0384 - val_loss: 31.6365 - val_mae: 4.1914 - val_mse: 31.6365\n",
      "Epoch 65/100\n",
      "20/20 [==============================] - 0s 15ms/step - loss: 29.5049 - mae: 4.0283 - mse: 29.5049 - val_loss: 35.7890 - val_mae: 4.5859 - val_mse: 35.7890\n",
      "Epoch 66/100\n",
      "20/20 [==============================] - 0s 15ms/step - loss: 29.8377 - mae: 4.0060 - mse: 29.8377 - val_loss: 40.0361 - val_mae: 4.8940 - val_mse: 40.0361\n",
      "Epoch 67/100\n",
      "20/20 [==============================] - 0s 17ms/step - loss: 30.6955 - mae: 4.0927 - mse: 30.6955 - val_loss: 39.4394 - val_mae: 4.8463 - val_mse: 39.4394\n",
      "Epoch 68/100\n",
      "20/20 [==============================] - 0s 14ms/step - loss: 30.2925 - mae: 3.9903 - mse: 30.2925 - val_loss: 29.0558 - val_mae: 3.9374 - val_mse: 29.0558\n",
      "Epoch 69/100\n",
      "20/20 [==============================] - 0s 19ms/step - loss: 30.2732 - mae: 3.9894 - mse: 30.2732 - val_loss: 33.2104 - val_mae: 4.2775 - val_mse: 33.2104\n",
      "Epoch 70/100\n",
      "20/20 [==============================] - 0s 18ms/step - loss: 29.3491 - mae: 3.9369 - mse: 29.3491 - val_loss: 31.8015 - val_mae: 4.1629 - val_mse: 31.8015\n",
      "Epoch 71/100\n",
      "20/20 [==============================] - 0s 16ms/step - loss: 30.1874 - mae: 4.0479 - mse: 30.1874 - val_loss: 35.9798 - val_mae: 4.4876 - val_mse: 35.9798\n",
      "Epoch 72/100\n",
      "20/20 [==============================] - 0s 14ms/step - loss: 28.7528 - mae: 3.9483 - mse: 28.7528 - val_loss: 31.8566 - val_mae: 4.1498 - val_mse: 31.8566\n",
      "Epoch 73/100\n",
      "20/20 [==============================] - 0s 17ms/step - loss: 29.0011 - mae: 3.9927 - mse: 29.0011 - val_loss: 34.7429 - val_mae: 4.4077 - val_mse: 34.7429\n",
      "Epoch 74/100\n",
      "20/20 [==============================] - 0s 20ms/step - loss: 29.8492 - mae: 4.0658 - mse: 29.8492 - val_loss: 39.7534 - val_mae: 4.7245 - val_mse: 39.7534\n",
      "Epoch 75/100\n",
      "20/20 [==============================] - 0s 22ms/step - loss: 28.5458 - mae: 3.9585 - mse: 28.5458 - val_loss: 36.0946 - val_mae: 4.4167 - val_mse: 36.0946\n",
      "Epoch 76/100\n",
      "20/20 [==============================] - 0s 16ms/step - loss: 26.9390 - mae: 3.8565 - mse: 26.9390 - val_loss: 34.4484 - val_mae: 4.3341 - val_mse: 34.4484\n",
      "Epoch 77/100\n",
      "20/20 [==============================] - 0s 19ms/step - loss: 30.3490 - mae: 4.0876 - mse: 30.3490 - val_loss: 34.7422 - val_mae: 4.4185 - val_mse: 34.7422\n",
      "Epoch 78/100\n",
      "20/20 [==============================] - 0s 19ms/step - loss: 27.2654 - mae: 3.8657 - mse: 27.2654 - val_loss: 42.5497 - val_mae: 5.0365 - val_mse: 42.5497\n",
      "Epoch 79/100\n",
      "20/20 [==============================] - 0s 18ms/step - loss: 29.6471 - mae: 3.9200 - mse: 29.6471 - val_loss: 38.1978 - val_mae: 4.7014 - val_mse: 38.1978\n",
      "Epoch 80/100\n",
      "20/20 [==============================] - 0s 17ms/step - loss: 26.9995 - mae: 3.8172 - mse: 26.9995 - val_loss: 38.7458 - val_mae: 4.7671 - val_mse: 38.7458\n",
      "Epoch 81/100\n",
      "20/20 [==============================] - 0s 16ms/step - loss: 30.6566 - mae: 4.0653 - mse: 30.6566 - val_loss: 45.3525 - val_mae: 5.2173 - val_mse: 45.3525\n",
      "Epoch 82/100\n",
      "20/20 [==============================] - 0s 19ms/step - loss: 30.5107 - mae: 4.0785 - mse: 30.5107 - val_loss: 39.0456 - val_mae: 4.7146 - val_mse: 39.0456\n",
      "Epoch 83/100\n",
      "20/20 [==============================] - 0s 19ms/step - loss: 27.7173 - mae: 3.8748 - mse: 27.7173 - val_loss: 37.3561 - val_mae: 4.5795 - val_mse: 37.3561\n",
      "Epoch 84/100\n",
      "20/20 [==============================] - 0s 18ms/step - loss: 29.1998 - mae: 3.9790 - mse: 29.1998 - val_loss: 41.9999 - val_mae: 4.8985 - val_mse: 41.9999\n",
      "Epoch 85/100\n",
      "20/20 [==============================] - 0s 18ms/step - loss: 26.4464 - mae: 3.8292 - mse: 26.4464 - val_loss: 37.1674 - val_mae: 4.5190 - val_mse: 37.1674\n",
      "Epoch 86/100\n",
      "20/20 [==============================] - 0s 11ms/step - loss: 26.7444 - mae: 3.8123 - mse: 26.7444 - val_loss: 32.5453 - val_mae: 4.1720 - val_mse: 32.5453\n",
      "Epoch 87/100\n",
      "20/20 [==============================] - 0s 19ms/step - loss: 27.4148 - mae: 3.8642 - mse: 27.4148 - val_loss: 36.5523 - val_mae: 4.5341 - val_mse: 36.5523\n",
      "Epoch 88/100\n",
      "20/20 [==============================] - 0s 20ms/step - loss: 28.2369 - mae: 3.8482 - mse: 28.2369 - val_loss: 39.7118 - val_mae: 4.7709 - val_mse: 39.7118\n",
      "Epoch 89/100\n",
      "20/20 [==============================] - 0s 16ms/step - loss: 28.7795 - mae: 3.8715 - mse: 28.7795 - val_loss: 39.7348 - val_mae: 4.7393 - val_mse: 39.7348\n",
      "Epoch 90/100\n",
      "20/20 [==============================] - 0s 18ms/step - loss: 28.3340 - mae: 3.9019 - mse: 28.3340 - val_loss: 35.1827 - val_mae: 4.3654 - val_mse: 35.1827\n",
      "Epoch 91/100\n",
      "20/20 [==============================] - 0s 18ms/step - loss: 31.4462 - mae: 4.0881 - mse: 31.4462 - val_loss: 39.9661 - val_mae: 4.7720 - val_mse: 39.9661\n",
      "Epoch 92/100\n",
      "20/20 [==============================] - 0s 18ms/step - loss: 29.1911 - mae: 4.0834 - mse: 29.1911 - val_loss: 45.2436 - val_mae: 5.1558 - val_mse: 45.2436\n",
      "Epoch 93/100\n",
      "20/20 [==============================] - 0s 17ms/step - loss: 26.1925 - mae: 3.7649 - mse: 26.1925 - val_loss: 38.9806 - val_mae: 4.6377 - val_mse: 38.9806\n",
      "Epoch 94/100\n",
      "20/20 [==============================] - 0s 18ms/step - loss: 28.3140 - mae: 3.9335 - mse: 28.3140 - val_loss: 33.4487 - val_mae: 4.1731 - val_mse: 33.4487\n",
      "Epoch 95/100\n",
      "20/20 [==============================] - 0s 14ms/step - loss: 27.1206 - mae: 3.8216 - mse: 27.1206 - val_loss: 35.7838 - val_mae: 4.3876 - val_mse: 35.7838\n",
      "Epoch 96/100\n",
      "20/20 [==============================] - 0s 17ms/step - loss: 27.1835 - mae: 3.8481 - mse: 27.1835 - val_loss: 31.5127 - val_mae: 4.0251 - val_mse: 31.5127\n",
      "Epoch 97/100\n"
     ]
    },
    {
     "name": "stdout",
     "output_type": "stream",
     "text": [
      "20/20 [==============================] - 0s 20ms/step - loss: 28.7977 - mae: 3.9975 - mse: 28.7977 - val_loss: 40.0043 - val_mae: 4.7386 - val_mse: 40.0043\n",
      "Epoch 98/100\n",
      "20/20 [==============================] - 0s 19ms/step - loss: 26.8731 - mae: 3.8115 - mse: 26.8731 - val_loss: 40.0751 - val_mae: 4.7403 - val_mse: 40.0751\n",
      "Epoch 99/100\n",
      "20/20 [==============================] - 0s 12ms/step - loss: 25.2746 - mae: 3.7148 - mse: 25.2746 - val_loss: 42.6406 - val_mae: 4.9860 - val_mse: 42.6406\n",
      "Epoch 100/100\n",
      "20/20 [==============================] - 0s 10ms/step - loss: 27.4902 - mae: 3.8350 - mse: 27.4902 - val_loss: 39.4416 - val_mae: 4.7181 - val_mse: 39.4416\n"
     ]
    }
   ],
   "source": [
    "EPOCHS = 100\n",
    "\n",
    "early_stop = keras.callbacks.EarlyStopping(monitor = 'val_loss', patience = 10)\n",
    "\n",
    "history = model.fit(\n",
    "    X_train, y_train,\n",
    "    epochs = EPOCHS,\n",
    "    verbose = 1,\n",
    "    validation_data = (X_valid, y_valid),\n",
    "    #callbacks = [early_stop, tfdocs.modeling.EpochDots()]\n",
    ")"
   ]
  },
  {
   "cell_type": "markdown",
   "metadata": {},
   "source": [
    "## Evaluate the model"
   ]
  },
  {
   "cell_type": "code",
   "execution_count": 72,
   "metadata": {},
   "outputs": [
    {
     "name": "stdout",
     "output_type": "stream",
     "text": [
      "5/5 - 0s - loss: 39.4416 - mae: 4.7181 - mse: 39.4416\n"
     ]
    },
    {
     "data": {
      "text/plain": [
       "[39.44158935546875, 4.7180585861206055, 39.44158935546875]"
      ]
     },
     "execution_count": 72,
     "metadata": {},
     "output_type": "execute_result"
    },
    {
     "data": {
      "image/png": "[encoded data removed]",
      "text/plain": [
       "<Figure size 432x288 with 1 Axes>"
      ]
     },
     "metadata": {
      "needs_background": "light"
     },
     "output_type": "display_data"
    }
   ],
   "source": [
    "import matplotlib.pyplot as plt\n",
    "\n",
    "plt.plot(history.history['mae'], label = 'MAE')\n",
    "plt.plot(history.history['val_mae'], label = 'val_MAE')\n",
    "plt.xlabel('Epoch')\n",
    "plt.ylabel('MAE')\n",
    "plt.ylim([0, 30])\n",
    "plt.legend(loc = 'upper right')\n",
    "\n",
    "model.evaluate(X_valid, y_valid, verbose = 2)"
   ]
  },
  {
   "cell_type": "code",
   "execution_count": 73,
   "metadata": {},
   "outputs": [
    {
     "name": "stdout",
     "output_type": "stream",
     "text": [
      "5/5 - 0s - loss: 39.4416 - mae: 4.7181 - mse: 39.4416\n"
     ]
    },
    {
     "data": {
      "text/plain": [
       "[39.44158935546875, 4.7180585861206055, 39.44158935546875]"
      ]
     },
     "execution_count": 73,
     "metadata": {},
     "output_type": "execute_result"
    },
    {
     "data": {
      "image/png": "[encoded data removed]",
      "text/plain": [
       "<Figure size 432x288 with 1 Axes>"
      ]
     },
     "metadata": {
      "needs_background": "light"
     },
     "output_type": "display_data"
    }
   ],
   "source": [
    "plt.plot(history.history['mse'], label = 'MSE')\n",
    "plt.plot(history.history['val_mse'], label = 'val_MSE')\n",
    "plt.xlabel('Epoch')\n",
    "plt.ylabel('MSE')\n",
    "plt.ylim([0, 200])\n",
    "plt.legend(loc = 'upper right')\n",
    "\n",
    "model.evaluate(X_valid, y_valid, verbose = 2)"
   ]
  },
  {
   "cell_type": "markdown",
   "metadata": {},
   "source": [
    "## Make predictions"
   ]
  },
  {
   "cell_type": "code",
   "execution_count": 74,
   "metadata": {},
   "outputs": [
    {
     "data": {
      "image/png": "[encoded data removed]",
      "text/plain": [
       "<Figure size 432x288 with 1 Axes>"
      ]
     },
     "metadata": {
      "needs_background": "light"
     },
     "output_type": "display_data"
    }
   ],
   "source": [
    "preds = model.predict(X_valid).flatten()\n",
    "\n",
    "a = plt.axes(aspect = 'equal')\n",
    "plt.scatter(y_valid, preds)\n",
    "plt.xlabel('True Values')\n",
    "plt.ylabel('Predictions')\n",
    "lims = [0, 50]\n",
    "plt.xlim(lims)\n",
    "plt.ylim(lims)\n",
    "_ = plt.plot(lims, lims)"
   ]
  },
  {
   "cell_type": "markdown",
   "metadata": {},
   "source": [
    "View error distribution."
   ]
  },
  {
   "cell_type": "code",
   "execution_count": 75,
   "metadata": {},
   "outputs": [
    {
     "data": {
      "image/png": "[encoded data removed]",
      "text/plain": [
       "<Figure size 432x288 with 1 Axes>"
      ]
     },
     "metadata": {
      "needs_background": "light"
     },
     "output_type": "display_data"
    }
   ],
   "source": [
    "error = preds - y_valid\n",
    "plt.hist(error, bins = 25)\n",
    "plt.xlabel(\"Prediction Error\")\n",
    "_ = plt.ylabel(\"Count\")"
   ]
  }
 ],
 "metadata": {
  "kernelspec": {
   "display_name": "Python 3",
   "language": "python",
   "name": "python3"
  },
  "language_info": {
   "codemirror_mode": {
    "name": "ipython",
    "version": 3
   },
   "file_extension": ".py",
   "mimetype": "text/x-python",
   "name": "python",
   "nbconvert_exporter": "python",
   "pygments_lexer": "ipython3",
   "version": "3.7.6"
  }
 },
 "nbformat": 4,
 "nbformat_minor": 4
}
