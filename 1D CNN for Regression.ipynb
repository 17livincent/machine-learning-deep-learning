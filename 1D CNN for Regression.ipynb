{
 "cells": [
  {
   "cell_type": "markdown",
   "metadata": {},
   "source": [
    "# 1D Convolutional Neural Network for Regression"
   ]
  },
  {
   "cell_type": "code",
   "execution_count": 1,
   "metadata": {},
   "outputs": [],
   "source": [
    "import tensorflow as tf\n",
    "from tensorflow import keras\n",
    "from tensorflow.keras import layers\n",
    "\n",
    "import tensorflow_docs as tfdocs\n",
    "import tensorflow_docs.modeling"
   ]
  },
  {
   "cell_type": "markdown",
   "metadata": {},
   "source": [
    "## Import Data"
   ]
  },
  {
   "cell_type": "markdown",
   "metadata": {},
   "source": [
    "Use the energy efficiency dataset from UCI."
   ]
  },
  {
   "cell_type": "code",
   "execution_count": 2,
   "metadata": {},
   "outputs": [],
   "source": [
    "dataset_path = keras.utils.get_file(\"ENB2012_data.xlsx\", \"http://archive.ics.uci.edu/ml/machine-learning-databases/00242/ENB2012_data.xlsx\")"
   ]
  },
  {
   "cell_type": "code",
   "execution_count": 3,
   "metadata": {},
   "outputs": [],
   "source": [
    "import pandas as pd\n",
    "\n",
    "column_names = ['Relative Compactness', 'Surface Area', 'Wall Area', \n",
    "                'Roof Area', 'Overall Height', 'Orientation', \n",
    "                'Glazing Area', 'Glazing Area Distribution', \n",
    "                'Heating Load', 'Cooling Load']\n",
    "raw_dataset = pd.read_excel(dataset_path, names = column_names, \n",
    "                          na_values = '?', comment = '\\t', \n",
    "                          sep = ' ', skipinitialspace = True)\n",
    "dataset = raw_dataset.copy()"
   ]
  },
  {
   "cell_type": "code",
   "execution_count": 4,
   "metadata": {},
   "outputs": [
    {
     "data": {
      "text/html": [
       "<div>\n",
       "<style scoped>\n",
       "    .dataframe tbody tr th:only-of-type {\n",
       "        vertical-align: middle;\n",
       "    }\n",
       "\n",
       "    .dataframe tbody tr th {\n",
       "        vertical-align: top;\n",
       "    }\n",
       "\n",
       "    .dataframe thead th {\n",
       "        text-align: right;\n",
       "    }\n",
       "</style>\n",
       "<table border=\"1\" class=\"dataframe\">\n",
       "  <thead>\n",
       "    <tr style=\"text-align: right;\">\n",
       "      <th></th>\n",
       "      <th>Relative Compactness</th>\n",
       "      <th>Surface Area</th>\n",
       "      <th>Wall Area</th>\n",
       "      <th>Roof Area</th>\n",
       "      <th>Overall Height</th>\n",
       "      <th>Orientation</th>\n",
       "      <th>Glazing Area</th>\n",
       "      <th>Glazing Area Distribution</th>\n",
       "      <th>Heating Load</th>\n",
       "      <th>Cooling Load</th>\n",
       "    </tr>\n",
       "  </thead>\n",
       "  <tbody>\n",
       "    <tr>\n",
       "      <th>0</th>\n",
       "      <td>0.98</td>\n",
       "      <td>514.5</td>\n",
       "      <td>294.0</td>\n",
       "      <td>110.25</td>\n",
       "      <td>7.0</td>\n",
       "      <td>2</td>\n",
       "      <td>0.0</td>\n",
       "      <td>0</td>\n",
       "      <td>15.55</td>\n",
       "      <td>21.33</td>\n",
       "    </tr>\n",
       "    <tr>\n",
       "      <th>1</th>\n",
       "      <td>0.98</td>\n",
       "      <td>514.5</td>\n",
       "      <td>294.0</td>\n",
       "      <td>110.25</td>\n",
       "      <td>7.0</td>\n",
       "      <td>3</td>\n",
       "      <td>0.0</td>\n",
       "      <td>0</td>\n",
       "      <td>15.55</td>\n",
       "      <td>21.33</td>\n",
       "    </tr>\n",
       "    <tr>\n",
       "      <th>2</th>\n",
       "      <td>0.98</td>\n",
       "      <td>514.5</td>\n",
       "      <td>294.0</td>\n",
       "      <td>110.25</td>\n",
       "      <td>7.0</td>\n",
       "      <td>4</td>\n",
       "      <td>0.0</td>\n",
       "      <td>0</td>\n",
       "      <td>15.55</td>\n",
       "      <td>21.33</td>\n",
       "    </tr>\n",
       "    <tr>\n",
       "      <th>3</th>\n",
       "      <td>0.98</td>\n",
       "      <td>514.5</td>\n",
       "      <td>294.0</td>\n",
       "      <td>110.25</td>\n",
       "      <td>7.0</td>\n",
       "      <td>5</td>\n",
       "      <td>0.0</td>\n",
       "      <td>0</td>\n",
       "      <td>15.55</td>\n",
       "      <td>21.33</td>\n",
       "    </tr>\n",
       "    <tr>\n",
       "      <th>4</th>\n",
       "      <td>0.90</td>\n",
       "      <td>563.5</td>\n",
       "      <td>318.5</td>\n",
       "      <td>122.50</td>\n",
       "      <td>7.0</td>\n",
       "      <td>2</td>\n",
       "      <td>0.0</td>\n",
       "      <td>0</td>\n",
       "      <td>20.84</td>\n",
       "      <td>28.28</td>\n",
       "    </tr>\n",
       "  </tbody>\n",
       "</table>\n",
       "</div>"
      ],
      "text/plain": [
       "   Relative Compactness  Surface Area  Wall Area  Roof Area  Overall Height  \\\n",
       "0                  0.98         514.5      294.0     110.25             7.0   \n",
       "1                  0.98         514.5      294.0     110.25             7.0   \n",
       "2                  0.98         514.5      294.0     110.25             7.0   \n",
       "3                  0.98         514.5      294.0     110.25             7.0   \n",
       "4                  0.90         563.5      318.5     122.50             7.0   \n",
       "\n",
       "   Orientation  Glazing Area  Glazing Area Distribution  Heating Load  \\\n",
       "0            2           0.0                          0         15.55   \n",
       "1            3           0.0                          0         15.55   \n",
       "2            4           0.0                          0         15.55   \n",
       "3            5           0.0                          0         15.55   \n",
       "4            2           0.0                          0         20.84   \n",
       "\n",
       "   Cooling Load  \n",
       "0         21.33  \n",
       "1         21.33  \n",
       "2         21.33  \n",
       "3         21.33  \n",
       "4         28.28  "
      ]
     },
     "execution_count": 4,
     "metadata": {},
     "output_type": "execute_result"
    }
   ],
   "source": [
    "dataset.head()"
   ]
  },
  {
   "cell_type": "code",
   "execution_count": 5,
   "metadata": {},
   "outputs": [
    {
     "data": {
      "text/html": [
       "<div>\n",
       "<style scoped>\n",
       "    .dataframe tbody tr th:only-of-type {\n",
       "        vertical-align: middle;\n",
       "    }\n",
       "\n",
       "    .dataframe tbody tr th {\n",
       "        vertical-align: top;\n",
       "    }\n",
       "\n",
       "    .dataframe thead th {\n",
       "        text-align: right;\n",
       "    }\n",
       "</style>\n",
       "<table border=\"1\" class=\"dataframe\">\n",
       "  <thead>\n",
       "    <tr style=\"text-align: right;\">\n",
       "      <th></th>\n",
       "      <th>Relative Compactness</th>\n",
       "      <th>Surface Area</th>\n",
       "      <th>Wall Area</th>\n",
       "      <th>Roof Area</th>\n",
       "      <th>Overall Height</th>\n",
       "      <th>Orientation</th>\n",
       "      <th>Glazing Area</th>\n",
       "      <th>Glazing Area Distribution</th>\n",
       "      <th>Heating Load</th>\n",
       "      <th>Cooling Load</th>\n",
       "    </tr>\n",
       "  </thead>\n",
       "  <tbody>\n",
       "    <tr>\n",
       "      <th>count</th>\n",
       "      <td>768.000000</td>\n",
       "      <td>768.000000</td>\n",
       "      <td>768.000000</td>\n",
       "      <td>768.000000</td>\n",
       "      <td>768.00000</td>\n",
       "      <td>768.000000</td>\n",
       "      <td>768.000000</td>\n",
       "      <td>768.00000</td>\n",
       "      <td>768.000000</td>\n",
       "      <td>768.000000</td>\n",
       "    </tr>\n",
       "    <tr>\n",
       "      <th>mean</th>\n",
       "      <td>0.764167</td>\n",
       "      <td>671.708333</td>\n",
       "      <td>318.500000</td>\n",
       "      <td>176.604167</td>\n",
       "      <td>5.25000</td>\n",
       "      <td>3.500000</td>\n",
       "      <td>0.234375</td>\n",
       "      <td>2.81250</td>\n",
       "      <td>22.307195</td>\n",
       "      <td>24.587760</td>\n",
       "    </tr>\n",
       "    <tr>\n",
       "      <th>std</th>\n",
       "      <td>0.105777</td>\n",
       "      <td>88.086116</td>\n",
       "      <td>43.626481</td>\n",
       "      <td>45.165950</td>\n",
       "      <td>1.75114</td>\n",
       "      <td>1.118763</td>\n",
       "      <td>0.133221</td>\n",
       "      <td>1.55096</td>\n",
       "      <td>10.090204</td>\n",
       "      <td>9.513306</td>\n",
       "    </tr>\n",
       "    <tr>\n",
       "      <th>min</th>\n",
       "      <td>0.620000</td>\n",
       "      <td>514.500000</td>\n",
       "      <td>245.000000</td>\n",
       "      <td>110.250000</td>\n",
       "      <td>3.50000</td>\n",
       "      <td>2.000000</td>\n",
       "      <td>0.000000</td>\n",
       "      <td>0.00000</td>\n",
       "      <td>6.010000</td>\n",
       "      <td>10.900000</td>\n",
       "    </tr>\n",
       "    <tr>\n",
       "      <th>25%</th>\n",
       "      <td>0.682500</td>\n",
       "      <td>606.375000</td>\n",
       "      <td>294.000000</td>\n",
       "      <td>140.875000</td>\n",
       "      <td>3.50000</td>\n",
       "      <td>2.750000</td>\n",
       "      <td>0.100000</td>\n",
       "      <td>1.75000</td>\n",
       "      <td>12.992500</td>\n",
       "      <td>15.620000</td>\n",
       "    </tr>\n",
       "    <tr>\n",
       "      <th>50%</th>\n",
       "      <td>0.750000</td>\n",
       "      <td>673.750000</td>\n",
       "      <td>318.500000</td>\n",
       "      <td>183.750000</td>\n",
       "      <td>5.25000</td>\n",
       "      <td>3.500000</td>\n",
       "      <td>0.250000</td>\n",
       "      <td>3.00000</td>\n",
       "      <td>18.950000</td>\n",
       "      <td>22.080000</td>\n",
       "    </tr>\n",
       "    <tr>\n",
       "      <th>75%</th>\n",
       "      <td>0.830000</td>\n",
       "      <td>741.125000</td>\n",
       "      <td>343.000000</td>\n",
       "      <td>220.500000</td>\n",
       "      <td>7.00000</td>\n",
       "      <td>4.250000</td>\n",
       "      <td>0.400000</td>\n",
       "      <td>4.00000</td>\n",
       "      <td>31.667500</td>\n",
       "      <td>33.132500</td>\n",
       "    </tr>\n",
       "    <tr>\n",
       "      <th>max</th>\n",
       "      <td>0.980000</td>\n",
       "      <td>808.500000</td>\n",
       "      <td>416.500000</td>\n",
       "      <td>220.500000</td>\n",
       "      <td>7.00000</td>\n",
       "      <td>5.000000</td>\n",
       "      <td>0.400000</td>\n",
       "      <td>5.00000</td>\n",
       "      <td>43.100000</td>\n",
       "      <td>48.030000</td>\n",
       "    </tr>\n",
       "  </tbody>\n",
       "</table>\n",
       "</div>"
      ],
      "text/plain": [
       "       Relative Compactness  Surface Area   Wall Area   Roof Area  \\\n",
       "count            768.000000    768.000000  768.000000  768.000000   \n",
       "mean               0.764167    671.708333  318.500000  176.604167   \n",
       "std                0.105777     88.086116   43.626481   45.165950   \n",
       "min                0.620000    514.500000  245.000000  110.250000   \n",
       "25%                0.682500    606.375000  294.000000  140.875000   \n",
       "50%                0.750000    673.750000  318.500000  183.750000   \n",
       "75%                0.830000    741.125000  343.000000  220.500000   \n",
       "max                0.980000    808.500000  416.500000  220.500000   \n",
       "\n",
       "       Overall Height  Orientation  Glazing Area  Glazing Area Distribution  \\\n",
       "count       768.00000   768.000000    768.000000                  768.00000   \n",
       "mean          5.25000     3.500000      0.234375                    2.81250   \n",
       "std           1.75114     1.118763      0.133221                    1.55096   \n",
       "min           3.50000     2.000000      0.000000                    0.00000   \n",
       "25%           3.50000     2.750000      0.100000                    1.75000   \n",
       "50%           5.25000     3.500000      0.250000                    3.00000   \n",
       "75%           7.00000     4.250000      0.400000                    4.00000   \n",
       "max           7.00000     5.000000      0.400000                    5.00000   \n",
       "\n",
       "       Heating Load  Cooling Load  \n",
       "count    768.000000    768.000000  \n",
       "mean      22.307195     24.587760  \n",
       "std       10.090204      9.513306  \n",
       "min        6.010000     10.900000  \n",
       "25%       12.992500     15.620000  \n",
       "50%       18.950000     22.080000  \n",
       "75%       31.667500     33.132500  \n",
       "max       43.100000     48.030000  "
      ]
     },
     "execution_count": 5,
     "metadata": {},
     "output_type": "execute_result"
    }
   ],
   "source": [
    "dataset.describe()"
   ]
  },
  {
   "cell_type": "markdown",
   "metadata": {},
   "source": [
    "## Preprocess data"
   ]
  },
  {
   "cell_type": "code",
   "execution_count": 6,
   "metadata": {},
   "outputs": [
    {
     "data": {
      "text/plain": [
       "Relative Compactness         0\n",
       "Surface Area                 0\n",
       "Wall Area                    0\n",
       "Roof Area                    0\n",
       "Overall Height               0\n",
       "Orientation                  0\n",
       "Glazing Area                 0\n",
       "Glazing Area Distribution    0\n",
       "Heating Load                 0\n",
       "Cooling Load                 0\n",
       "dtype: int64"
      ]
     },
     "execution_count": 6,
     "metadata": {},
     "output_type": "execute_result"
    }
   ],
   "source": [
    "dataset.isna().sum()\n",
    "# No NA's"
   ]
  },
  {
   "cell_type": "code",
   "execution_count": 7,
   "metadata": {},
   "outputs": [],
   "source": [
    "# Split train/test data\n",
    "total_train = dataset.sample(frac = 0.8, random_state = 0)\n",
    "total_valid = dataset.drop(total_train.index)\n",
    "\n",
    "# Predict Heating Load\n",
    "y_train = total_train.pop('Heating Load')\n",
    "y_valid = total_valid.pop('Heating Load')\n",
    "X_train = total_train\n",
    "X_valid = total_valid"
   ]
  },
  {
   "cell_type": "code",
   "execution_count": 8,
   "metadata": {},
   "outputs": [],
   "source": [
    "# Normalize\n",
    "X_train = tf.keras.utils.normalize(X_train, axis = -1, order = 2)\n",
    "X_valid = tf.keras.utils.normalize(X_valid, axis = -1, order = 2)"
   ]
  },
  {
   "cell_type": "code",
   "execution_count": 9,
   "metadata": {},
   "outputs": [
    {
     "data": {
      "text/html": [
       "<div>\n",
       "<style scoped>\n",
       "    .dataframe tbody tr th:only-of-type {\n",
       "        vertical-align: middle;\n",
       "    }\n",
       "\n",
       "    .dataframe tbody tr th {\n",
       "        vertical-align: top;\n",
       "    }\n",
       "\n",
       "    .dataframe thead th {\n",
       "        text-align: right;\n",
       "    }\n",
       "</style>\n",
       "<table border=\"1\" class=\"dataframe\">\n",
       "  <thead>\n",
       "    <tr style=\"text-align: right;\">\n",
       "      <th></th>\n",
       "      <th>Relative Compactness</th>\n",
       "      <th>Surface Area</th>\n",
       "      <th>Wall Area</th>\n",
       "      <th>Roof Area</th>\n",
       "      <th>Overall Height</th>\n",
       "      <th>Orientation</th>\n",
       "      <th>Glazing Area</th>\n",
       "      <th>Glazing Area Distribution</th>\n",
       "      <th>Cooling Load</th>\n",
       "    </tr>\n",
       "  </thead>\n",
       "  <tbody>\n",
       "    <tr>\n",
       "      <th>661</th>\n",
       "      <td>0.000774</td>\n",
       "      <td>0.890610</td>\n",
       "      <td>0.373482</td>\n",
       "      <td>0.258564</td>\n",
       "      <td>0.004104</td>\n",
       "      <td>0.003518</td>\n",
       "      <td>0.000469</td>\n",
       "      <td>0.003518</td>\n",
       "      <td>0.020673</td>\n",
       "    </tr>\n",
       "    <tr>\n",
       "      <th>122</th>\n",
       "      <td>0.000972</td>\n",
       "      <td>0.901183</td>\n",
       "      <td>0.321851</td>\n",
       "      <td>0.289666</td>\n",
       "      <td>0.004598</td>\n",
       "      <td>0.005255</td>\n",
       "      <td>0.000131</td>\n",
       "      <td>0.002627</td>\n",
       "      <td>0.017827</td>\n",
       "    </tr>\n",
       "    <tr>\n",
       "      <th>113</th>\n",
       "      <td>0.001069</td>\n",
       "      <td>0.861844</td>\n",
       "      <td>0.464070</td>\n",
       "      <td>0.198887</td>\n",
       "      <td>0.009471</td>\n",
       "      <td>0.004059</td>\n",
       "      <td>0.000135</td>\n",
       "      <td>0.002706</td>\n",
       "      <td>0.046840</td>\n",
       "    </tr>\n",
       "    <tr>\n",
       "      <th>14</th>\n",
       "      <td>0.001161</td>\n",
       "      <td>0.867316</td>\n",
       "      <td>0.451004</td>\n",
       "      <td>0.208156</td>\n",
       "      <td>0.009912</td>\n",
       "      <td>0.005664</td>\n",
       "      <td>0.000000</td>\n",
       "      <td>0.000000</td>\n",
       "      <td>0.029963</td>\n",
       "    </tr>\n",
       "    <tr>\n",
       "      <th>529</th>\n",
       "      <td>0.001623</td>\n",
       "      <td>0.852222</td>\n",
       "      <td>0.486984</td>\n",
       "      <td>0.182619</td>\n",
       "      <td>0.011595</td>\n",
       "      <td>0.004969</td>\n",
       "      <td>0.000663</td>\n",
       "      <td>0.001656</td>\n",
       "      <td>0.055225</td>\n",
       "    </tr>\n",
       "  </tbody>\n",
       "</table>\n",
       "</div>"
      ],
      "text/plain": [
       "     Relative Compactness  Surface Area  Wall Area  Roof Area  Overall Height  \\\n",
       "661              0.000774      0.890610   0.373482   0.258564        0.004104   \n",
       "122              0.000972      0.901183   0.321851   0.289666        0.004598   \n",
       "113              0.001069      0.861844   0.464070   0.198887        0.009471   \n",
       "14               0.001161      0.867316   0.451004   0.208156        0.009912   \n",
       "529              0.001623      0.852222   0.486984   0.182619        0.011595   \n",
       "\n",
       "     Orientation  Glazing Area  Glazing Area Distribution  Cooling Load  \n",
       "661     0.003518      0.000469                   0.003518      0.020673  \n",
       "122     0.005255      0.000131                   0.002627      0.017827  \n",
       "113     0.004059      0.000135                   0.002706      0.046840  \n",
       "14      0.005664      0.000000                   0.000000      0.029963  \n",
       "529     0.004969      0.000663                   0.001656      0.055225  "
      ]
     },
     "execution_count": 9,
     "metadata": {},
     "output_type": "execute_result"
    }
   ],
   "source": [
    "X_train.head()"
   ]
  },
  {
   "cell_type": "code",
   "execution_count": 10,
   "metadata": {},
   "outputs": [],
   "source": [
    "# Reshape\n",
    "import pandas as pd\n",
    "\n",
    "X_train = X_train.to_numpy()\n",
    "X_train = X_train.reshape(X_train.shape[0], X_train.shape[1], 1)\n",
    "X_valid = X_valid.to_numpy()\n",
    "X_valid = X_valid.reshape(X_valid.shape[0], X_valid.shape[1], 1)"
   ]
  },
  {
   "cell_type": "markdown",
   "metadata": {},
   "source": [
    "## Build model"
   ]
  },
  {
   "cell_type": "code",
   "execution_count": 11,
   "metadata": {},
   "outputs": [],
   "source": [
    "def build_model():\n",
    "    model = keras.Sequential([\n",
    "        layers.Conv1D(filters = 32, kernel_size = 3, activation = 'relu', \n",
    "                      input_shape = (9, 1)),\n",
    "        layers.Conv1D(filters = 64, kernel_size = 3, activation = 'relu'),\n",
    "        layers.Dropout(0.5),\n",
    "        layers.MaxPooling1D(pool_size = 2),\n",
    "        layers.Flatten(),\n",
    "        layers.Dense(64, activation = 'relu'),\n",
    "        layers.Dense(1)\n",
    "    ])\n",
    "    \n",
    "    optimizer = 'adam'#tf.keras.optimizers.RMSprop(0.001)\n",
    "    \n",
    "    model.compile(loss = 'mse',\n",
    "                 optimizer = optimizer,\n",
    "                 metrics = ['mae', 'mse'])\n",
    "    \n",
    "    return model"
   ]
  },
  {
   "cell_type": "code",
   "execution_count": 12,
   "metadata": {},
   "outputs": [],
   "source": [
    "model = build_model()"
   ]
  },
  {
   "cell_type": "code",
   "execution_count": 13,
   "metadata": {},
   "outputs": [
    {
     "name": "stdout",
     "output_type": "stream",
     "text": [
      "Model: \"sequential\"\n",
      "_________________________________________________________________\n",
      "Layer (type)                 Output Shape              Param #   \n",
      "=================================================================\n",
      "conv1d (Conv1D)              (None, 7, 32)             128       \n",
      "_________________________________________________________________\n",
      "conv1d_1 (Conv1D)            (None, 5, 64)             6208      \n",
      "_________________________________________________________________\n",
      "dropout (Dropout)            (None, 5, 64)             0         \n",
      "_________________________________________________________________\n",
      "max_pooling1d (MaxPooling1D) (None, 2, 64)             0         \n",
      "_________________________________________________________________\n",
      "flatten (Flatten)            (None, 128)               0         \n",
      "_________________________________________________________________\n",
      "dense (Dense)                (None, 64)                8256      \n",
      "_________________________________________________________________\n",
      "dense_1 (Dense)              (None, 1)                 65        \n",
      "=================================================================\n",
      "Total params: 14,657\n",
      "Trainable params: 14,657\n",
      "Non-trainable params: 0\n",
      "_________________________________________________________________\n"
     ]
    }
   ],
   "source": [
    "model.summary()"
   ]
  },
  {
   "cell_type": "markdown",
   "metadata": {},
   "source": [
    "## Train the model"
   ]
  },
  {
   "cell_type": "code",
   "execution_count": 14,
   "metadata": {},
   "outputs": [
    {
     "name": "stdout",
     "output_type": "stream",
     "text": [
      "Epoch 1/100\n",
      "20/20 [==============================] - 1s 75ms/step - loss: 595.9593 - mae: 22.2432 - mse: 595.9593 - val_loss: 499.1138 - val_mae: 19.9486 - val_mse: 499.1138\n",
      "Epoch 2/100\n",
      "20/20 [==============================] - 0s 22ms/step - loss: 467.8334 - mae: 19.0407 - mse: 467.8334 - val_loss: 310.4649 - val_mae: 14.4825 - val_mse: 310.4649\n",
      "Epoch 3/100\n",
      "20/20 [==============================] - 0s 22ms/step - loss: 165.0707 - mae: 10.4988 - mse: 165.0707 - val_loss: 102.7360 - val_mae: 8.6147 - val_mse: 102.7360\n",
      "Epoch 4/100\n",
      "20/20 [==============================] - 0s 20ms/step - loss: 105.5047 - mae: 9.0714 - mse: 105.5047 - val_loss: 133.5465 - val_mae: 8.2953 - val_mse: 133.5465\n",
      "Epoch 5/100\n",
      "20/20 [==============================] - 0s 24ms/step - loss: 104.1005 - mae: 9.0734 - mse: 104.1005 - val_loss: 119.0559 - val_mae: 8.2562 - val_mse: 119.0559\n",
      "Epoch 6/100\n",
      "20/20 [==============================] - 0s 17ms/step - loss: 100.8151 - mae: 8.9815 - mse: 100.8151 - val_loss: 118.7314 - val_mae: 8.2150 - val_mse: 118.7314\n",
      "Epoch 7/100\n",
      "20/20 [==============================] - 0s 15ms/step - loss: 99.8856 - mae: 8.9518 - mse: 99.8856 - val_loss: 122.5562 - val_mae: 8.1625 - val_mse: 122.5562\n",
      "Epoch 8/100\n",
      "20/20 [==============================] - 0s 15ms/step - loss: 98.9794 - mae: 8.8524 - mse: 98.9794 - val_loss: 118.3393 - val_mae: 8.1237 - val_mse: 118.3393\n",
      "Epoch 9/100\n",
      "20/20 [==============================] - 0s 14ms/step - loss: 95.7290 - mae: 8.7209 - mse: 95.7290 - val_loss: 114.2466 - val_mae: 8.0805 - val_mse: 114.2466\n",
      "Epoch 10/100\n",
      "20/20 [==============================] - 0s 14ms/step - loss: 98.2004 - mae: 8.7779 - mse: 98.2004 - val_loss: 118.5320 - val_mae: 8.0174 - val_mse: 118.5320\n",
      "Epoch 11/100\n",
      "20/20 [==============================] - 0s 15ms/step - loss: 95.4607 - mae: 8.7283 - mse: 95.4607 - val_loss: 123.0795 - val_mae: 7.9600 - val_mse: 123.0795\n",
      "Epoch 12/100\n",
      "20/20 [==============================] - 0s 15ms/step - loss: 94.7370 - mae: 8.5974 - mse: 94.7370 - val_loss: 107.9845 - val_mae: 7.8942 - val_mse: 107.9845\n",
      "Epoch 13/100\n",
      "20/20 [==============================] - 0s 20ms/step - loss: 93.5567 - mae: 8.5814 - mse: 93.5567 - val_loss: 111.5770 - val_mae: 7.7993 - val_mse: 111.5770\n",
      "Epoch 14/100\n",
      "20/20 [==============================] - 0s 19ms/step - loss: 92.6961 - mae: 8.5778 - mse: 92.6961 - val_loss: 113.7621 - val_mae: 7.6995 - val_mse: 113.7621\n",
      "Epoch 15/100\n",
      "20/20 [==============================] - 0s 15ms/step - loss: 91.4827 - mae: 8.4615 - mse: 91.4827 - val_loss: 105.2939 - val_mae: 7.5958 - val_mse: 105.2939\n",
      "Epoch 16/100\n",
      "20/20 [==============================] - 0s 16ms/step - loss: 87.2247 - mae: 8.2361 - mse: 87.2247 - val_loss: 106.3399 - val_mae: 7.4641 - val_mse: 106.3399\n",
      "Epoch 17/100\n",
      "20/20 [==============================] - 0s 20ms/step - loss: 84.9908 - mae: 8.1978 - mse: 84.9908 - val_loss: 112.5515 - val_mae: 7.5079 - val_mse: 112.5515\n",
      "Epoch 18/100\n",
      "20/20 [==============================] - 0s 18ms/step - loss: 82.8994 - mae: 8.0122 - mse: 82.8994 - val_loss: 102.4910 - val_mae: 7.2219 - val_mse: 102.4910\n",
      "Epoch 19/100\n",
      "20/20 [==============================] - 0s 21ms/step - loss: 77.4578 - mae: 7.7102 - mse: 77.4578 - val_loss: 102.2596 - val_mae: 7.1595 - val_mse: 102.2596\n",
      "Epoch 20/100\n",
      "20/20 [==============================] - 0s 18ms/step - loss: 73.2613 - mae: 7.4626 - mse: 73.2613 - val_loss: 101.3109 - val_mae: 7.0933 - val_mse: 101.3109\n",
      "Epoch 21/100\n",
      "20/20 [==============================] - 0s 21ms/step - loss: 72.9671 - mae: 7.3781 - mse: 72.9671 - val_loss: 90.1156 - val_mae: 6.7218 - val_mse: 90.1156\n",
      "Epoch 22/100\n",
      "20/20 [==============================] - 0s 18ms/step - loss: 67.3926 - mae: 7.1042 - mse: 67.3926 - val_loss: 89.1834 - val_mae: 6.6441 - val_mse: 89.1834\n",
      "Epoch 23/100\n",
      "20/20 [==============================] - 0s 19ms/step - loss: 62.6092 - mae: 6.7381 - mse: 62.6092 - val_loss: 89.1019 - val_mae: 6.6119 - val_mse: 89.1019\n",
      "Epoch 24/100\n",
      "20/20 [==============================] - 0s 22ms/step - loss: 58.2934 - mae: 6.4631 - mse: 58.2934 - val_loss: 80.0324 - val_mae: 6.2682 - val_mse: 80.0324\n",
      "Epoch 25/100\n",
      "20/20 [==============================] - 0s 17ms/step - loss: 54.2369 - mae: 6.1000 - mse: 54.2369 - val_loss: 69.4688 - val_mae: 5.8384 - val_mse: 69.4688\n",
      "Epoch 26/100\n",
      "20/20 [==============================] - 0s 14ms/step - loss: 52.7779 - mae: 5.9484 - mse: 52.7779 - val_loss: 68.9037 - val_mae: 5.8390 - val_mse: 68.9037\n",
      "Epoch 27/100\n",
      "20/20 [==============================] - 0s 20ms/step - loss: 45.7743 - mae: 5.5672 - mse: 45.7743 - val_loss: 65.6510 - val_mae: 5.7703 - val_mse: 65.6510\n",
      "Epoch 28/100\n",
      "20/20 [==============================] - 0s 8ms/step - loss: 39.5386 - mae: 5.0121 - mse: 39.5386 - val_loss: 57.9047 - val_mae: 5.4347 - val_mse: 57.9047\n",
      "Epoch 29/100\n",
      "20/20 [==============================] - 0s 8ms/step - loss: 40.2156 - mae: 4.9602 - mse: 40.2156 - val_loss: 56.3740 - val_mae: 5.4666 - val_mse: 56.3740\n",
      "Epoch 30/100\n",
      "20/20 [==============================] - 0s 11ms/step - loss: 34.6905 - mae: 4.5648 - mse: 34.6905 - val_loss: 56.8645 - val_mae: 5.6144 - val_mse: 56.8645\n",
      "Epoch 31/100\n",
      "20/20 [==============================] - 0s 10ms/step - loss: 33.4713 - mae: 4.5715 - mse: 33.4713 - val_loss: 66.0039 - val_mae: 6.3968 - val_mse: 66.0039\n",
      "Epoch 32/100\n",
      "20/20 [==============================] - 0s 10ms/step - loss: 33.3114 - mae: 4.4400 - mse: 33.3114 - val_loss: 60.0350 - val_mae: 6.0284 - val_mse: 60.0350\n",
      "Epoch 33/100\n",
      "20/20 [==============================] - 0s 21ms/step - loss: 31.3434 - mae: 4.3467 - mse: 31.3434 - val_loss: 47.9427 - val_mae: 5.2057 - val_mse: 47.9427\n",
      "Epoch 34/100\n",
      "20/20 [==============================] - 1s 25ms/step - loss: 31.6887 - mae: 4.2951 - mse: 31.6887 - val_loss: 43.7203 - val_mae: 4.9324 - val_mse: 43.7203\n",
      "Epoch 35/100\n",
      "20/20 [==============================] - 0s 20ms/step - loss: 30.0947 - mae: 4.1898 - mse: 30.0947 - val_loss: 48.9122 - val_mae: 5.3316 - val_mse: 48.9122\n",
      "Epoch 36/100\n",
      "20/20 [==============================] - 0s 14ms/step - loss: 30.5100 - mae: 4.1449 - mse: 30.5100 - val_loss: 48.4595 - val_mae: 5.2878 - val_mse: 48.4595\n",
      "Epoch 37/100\n",
      "20/20 [==============================] - 0s 18ms/step - loss: 29.6101 - mae: 4.1227 - mse: 29.6101 - val_loss: 53.9462 - val_mae: 5.7130 - val_mse: 53.9462\n",
      "Epoch 38/100\n",
      "20/20 [==============================] - 0s 15ms/step - loss: 28.8882 - mae: 4.0439 - mse: 28.8882 - val_loss: 55.4888 - val_mae: 5.8446 - val_mse: 55.4888\n",
      "Epoch 39/100\n",
      "20/20 [==============================] - 0s 12ms/step - loss: 28.4993 - mae: 4.0138 - mse: 28.4993 - val_loss: 49.2303 - val_mae: 5.4194 - val_mse: 49.2303\n",
      "Epoch 40/100\n",
      "20/20 [==============================] - 0s 17ms/step - loss: 28.3266 - mae: 3.9820 - mse: 28.3266 - val_loss: 58.6940 - val_mae: 6.0659 - val_mse: 58.6940\n",
      "Epoch 41/100\n",
      "20/20 [==============================] - 0s 18ms/step - loss: 28.4134 - mae: 3.9685 - mse: 28.4134 - val_loss: 57.0975 - val_mae: 5.9378 - val_mse: 57.0975\n",
      "Epoch 42/100\n",
      "20/20 [==============================] - 0s 16ms/step - loss: 28.4034 - mae: 4.0023 - mse: 28.4034 - val_loss: 58.7899 - val_mae: 6.0566 - val_mse: 58.7899\n",
      "Epoch 43/100\n",
      "20/20 [==============================] - 0s 19ms/step - loss: 28.4455 - mae: 4.0373 - mse: 28.4455 - val_loss: 58.3339 - val_mae: 6.0514 - val_mse: 58.3339\n",
      "Epoch 44/100\n",
      "20/20 [==============================] - 0s 23ms/step - loss: 27.2997 - mae: 3.9430 - mse: 27.2997 - val_loss: 55.8177 - val_mae: 5.8884 - val_mse: 55.8177\n",
      "Epoch 45/100\n",
      "20/20 [==============================] - 0s 20ms/step - loss: 28.0798 - mae: 3.9517 - mse: 28.0798 - val_loss: 49.6641 - val_mae: 5.3878 - val_mse: 49.6641\n",
      "Epoch 46/100\n",
      "20/20 [==============================] - 0s 13ms/step - loss: 29.8406 - mae: 4.1427 - mse: 29.8406 - val_loss: 42.6733 - val_mae: 4.8941 - val_mse: 42.6733\n",
      "Epoch 47/100\n",
      "20/20 [==============================] - 0s 15ms/step - loss: 27.7061 - mae: 3.9683 - mse: 27.7061 - val_loss: 55.2718 - val_mae: 5.8311 - val_mse: 55.2718\n",
      "Epoch 48/100\n",
      "20/20 [==============================] - 0s 17ms/step - loss: 28.4669 - mae: 4.0326 - mse: 28.4669 - val_loss: 52.3664 - val_mae: 5.5672 - val_mse: 52.3664\n",
      "Epoch 49/100\n"
     ]
    },
    {
     "name": "stdout",
     "output_type": "stream",
     "text": [
      "20/20 [==============================] - 0s 15ms/step - loss: 28.4738 - mae: 4.0065 - mse: 28.4738 - val_loss: 52.3604 - val_mae: 5.5262 - val_mse: 52.3604\n",
      "Epoch 50/100\n",
      "20/20 [==============================] - 0s 14ms/step - loss: 27.8411 - mae: 3.9395 - mse: 27.8411 - val_loss: 52.7119 - val_mae: 5.5700 - val_mse: 52.7119\n",
      "Epoch 51/100\n",
      "20/20 [==============================] - 0s 19ms/step - loss: 25.2288 - mae: 3.7072 - mse: 25.2288 - val_loss: 56.6114 - val_mae: 5.9157 - val_mse: 56.6114\n",
      "Epoch 52/100\n",
      "20/20 [==============================] - 0s 23ms/step - loss: 26.7510 - mae: 3.8805 - mse: 26.7510 - val_loss: 54.4230 - val_mae: 5.7815 - val_mse: 54.4230\n",
      "Epoch 53/100\n",
      "20/20 [==============================] - 0s 12ms/step - loss: 27.3678 - mae: 3.9497 - mse: 27.3678 - val_loss: 48.6634 - val_mae: 5.3510 - val_mse: 48.6634\n",
      "Epoch 54/100\n",
      "20/20 [==============================] - 0s 14ms/step - loss: 28.1253 - mae: 3.9724 - mse: 28.1253 - val_loss: 58.3092 - val_mae: 6.0285 - val_mse: 58.3092\n",
      "Epoch 55/100\n",
      "20/20 [==============================] - 0s 15ms/step - loss: 26.1404 - mae: 3.8282 - mse: 26.1404 - val_loss: 57.1012 - val_mae: 5.9813 - val_mse: 57.1012\n",
      "Epoch 56/100\n",
      "20/20 [==============================] - 0s 18ms/step - loss: 25.7305 - mae: 3.7713 - mse: 25.7305 - val_loss: 66.3066 - val_mae: 6.6059 - val_mse: 66.3066\n",
      "Epoch 57/100\n",
      "20/20 [==============================] - 0s 18ms/step - loss: 26.1472 - mae: 3.7557 - mse: 26.1472 - val_loss: 62.9394 - val_mae: 6.3210 - val_mse: 62.9394\n",
      "Epoch 58/100\n",
      "20/20 [==============================] - 0s 12ms/step - loss: 26.8247 - mae: 3.8240 - mse: 26.8247 - val_loss: 66.5911 - val_mae: 6.5596 - val_mse: 66.5911\n",
      "Epoch 59/100\n",
      "20/20 [==============================] - 0s 11ms/step - loss: 28.1020 - mae: 3.8726 - mse: 28.1020 - val_loss: 57.4817 - val_mae: 5.9083 - val_mse: 57.4817\n",
      "Epoch 60/100\n",
      "20/20 [==============================] - 0s 14ms/step - loss: 25.0943 - mae: 3.7606 - mse: 25.0943 - val_loss: 57.9188 - val_mae: 5.9960 - val_mse: 57.9188\n",
      "Epoch 61/100\n",
      "20/20 [==============================] - 0s 17ms/step - loss: 24.8459 - mae: 3.7671 - mse: 24.8459 - val_loss: 54.0492 - val_mae: 5.7028 - val_mse: 54.0492\n",
      "Epoch 62/100\n",
      "20/20 [==============================] - 0s 21ms/step - loss: 24.9470 - mae: 3.7850 - mse: 24.9470 - val_loss: 53.3991 - val_mae: 5.7054 - val_mse: 53.3991\n",
      "Epoch 63/100\n",
      "20/20 [==============================] - 0s 24ms/step - loss: 25.2757 - mae: 3.7510 - mse: 25.2757 - val_loss: 59.9772 - val_mae: 6.1546 - val_mse: 59.9772\n",
      "Epoch 64/100\n",
      "20/20 [==============================] - 0s 14ms/step - loss: 26.3360 - mae: 3.8274 - mse: 26.3360 - val_loss: 56.1085 - val_mae: 5.8672 - val_mse: 56.1085\n",
      "Epoch 65/100\n",
      "20/20 [==============================] - 0s 10ms/step - loss: 25.8041 - mae: 3.8435 - mse: 25.8041 - val_loss: 51.3596 - val_mae: 5.5926 - val_mse: 51.3596\n",
      "Epoch 66/100\n",
      "20/20 [==============================] - 0s 12ms/step - loss: 26.0054 - mae: 3.7939 - mse: 26.0054 - val_loss: 61.4063 - val_mae: 6.2449 - val_mse: 61.4063\n",
      "Epoch 67/100\n",
      "20/20 [==============================] - 0s 13ms/step - loss: 26.9256 - mae: 3.7852 - mse: 26.9256 - val_loss: 66.6933 - val_mae: 6.6315 - val_mse: 66.6933\n",
      "Epoch 68/100\n",
      "20/20 [==============================] - 0s 10ms/step - loss: 26.0513 - mae: 3.7736 - mse: 26.0513 - val_loss: 53.1613 - val_mae: 5.6635 - val_mse: 53.1613\n",
      "Epoch 69/100\n",
      "20/20 [==============================] - 0s 18ms/step - loss: 25.3148 - mae: 3.7931 - mse: 25.3148 - val_loss: 58.5831 - val_mae: 6.0611 - val_mse: 58.5831\n",
      "Epoch 70/100\n",
      "20/20 [==============================] - 0s 15ms/step - loss: 25.7264 - mae: 3.8130 - mse: 25.7264 - val_loss: 61.6656 - val_mae: 6.2913 - val_mse: 61.6656\n",
      "Epoch 71/100\n",
      "20/20 [==============================] - 0s 20ms/step - loss: 29.1741 - mae: 4.0082 - mse: 29.1741 - val_loss: 44.0003 - val_mae: 4.9648 - val_mse: 44.0003\n",
      "Epoch 72/100\n",
      "20/20 [==============================] - 0s 10ms/step - loss: 26.2892 - mae: 3.7860 - mse: 26.2892 - val_loss: 70.5042 - val_mae: 6.8302 - val_mse: 70.5042\n",
      "Epoch 73/100\n",
      "20/20 [==============================] - 0s 8ms/step - loss: 27.4741 - mae: 3.9255 - mse: 27.4741 - val_loss: 69.5372 - val_mae: 6.7357 - val_mse: 69.5372\n",
      "Epoch 74/100\n",
      "20/20 [==============================] - 0s 8ms/step - loss: 27.5416 - mae: 3.8257 - mse: 27.5416 - val_loss: 57.4407 - val_mae: 5.9476 - val_mse: 57.4407\n",
      "Epoch 75/100\n",
      "20/20 [==============================] - 0s 10ms/step - loss: 25.7491 - mae: 3.7492 - mse: 25.7491 - val_loss: 54.1397 - val_mae: 5.6584 - val_mse: 54.1397\n",
      "Epoch 76/100\n",
      "20/20 [==============================] - 0s 10ms/step - loss: 25.7088 - mae: 3.7843 - mse: 25.7088 - val_loss: 66.1645 - val_mae: 6.5364 - val_mse: 66.1645\n",
      "Epoch 77/100\n",
      "20/20 [==============================] - 0s 10ms/step - loss: 23.6635 - mae: 3.6362 - mse: 23.6635 - val_loss: 51.6070 - val_mae: 5.5764 - val_mse: 51.6070\n",
      "Epoch 78/100\n",
      "20/20 [==============================] - 0s 13ms/step - loss: 27.2767 - mae: 3.8892 - mse: 27.2767 - val_loss: 50.7992 - val_mae: 5.5163 - val_mse: 50.7992\n",
      "Epoch 79/100\n",
      "20/20 [==============================] - 0s 11ms/step - loss: 28.3340 - mae: 3.9739 - mse: 28.3340 - val_loss: 63.5541 - val_mae: 6.3313 - val_mse: 63.5541\n",
      "Epoch 80/100\n",
      "20/20 [==============================] - 0s 15ms/step - loss: 27.3694 - mae: 3.8646 - mse: 27.3694 - val_loss: 55.4492 - val_mae: 5.7999 - val_mse: 55.4492\n",
      "Epoch 81/100\n",
      "20/20 [==============================] - 0s 15ms/step - loss: 28.0491 - mae: 3.9164 - mse: 28.0491 - val_loss: 50.1624 - val_mae: 5.4728 - val_mse: 50.1624\n",
      "Epoch 82/100\n",
      "20/20 [==============================] - 0s 22ms/step - loss: 23.8419 - mae: 3.6586 - mse: 23.8419 - val_loss: 60.4272 - val_mae: 6.1605 - val_mse: 60.4272\n",
      "Epoch 83/100\n",
      "20/20 [==============================] - 0s 11ms/step - loss: 26.3094 - mae: 3.7564 - mse: 26.3094 - val_loss: 60.9299 - val_mae: 6.1435 - val_mse: 60.9299\n",
      "Epoch 84/100\n",
      "20/20 [==============================] - 0s 10ms/step - loss: 25.3633 - mae: 3.7277 - mse: 25.3633 - val_loss: 51.7291 - val_mae: 5.5504 - val_mse: 51.7291\n",
      "Epoch 85/100\n",
      "20/20 [==============================] - 0s 13ms/step - loss: 26.5290 - mae: 3.8335 - mse: 26.5290 - val_loss: 58.0741 - val_mae: 5.9878 - val_mse: 58.0741\n",
      "Epoch 86/100\n",
      "20/20 [==============================] - 0s 10ms/step - loss: 25.5403 - mae: 3.7368 - mse: 25.5403 - val_loss: 59.1064 - val_mae: 6.0026 - val_mse: 59.1064\n",
      "Epoch 87/100\n",
      "20/20 [==============================] - 0s 11ms/step - loss: 23.4911 - mae: 3.5987 - mse: 23.4911 - val_loss: 66.0286 - val_mae: 6.5185 - val_mse: 66.0286\n",
      "Epoch 88/100\n",
      "20/20 [==============================] - 0s 10ms/step - loss: 25.7149 - mae: 3.7455 - mse: 25.7149 - val_loss: 60.8231 - val_mae: 6.1828 - val_mse: 60.8231\n",
      "Epoch 89/100\n",
      "20/20 [==============================] - 0s 11ms/step - loss: 24.8600 - mae: 3.7183 - mse: 24.8600 - val_loss: 44.4332 - val_mae: 5.0437 - val_mse: 44.4332\n",
      "Epoch 90/100\n",
      "20/20 [==============================] - 0s 11ms/step - loss: 27.0399 - mae: 3.8926 - mse: 27.0399 - val_loss: 63.1277 - val_mae: 6.3155 - val_mse: 63.1277\n",
      "Epoch 91/100\n",
      "20/20 [==============================] - 0s 10ms/step - loss: 26.6882 - mae: 3.8338 - mse: 26.6882 - val_loss: 61.9711 - val_mae: 6.2363 - val_mse: 61.9711\n",
      "Epoch 92/100\n",
      "20/20 [==============================] - 0s 11ms/step - loss: 23.8945 - mae: 3.6310 - mse: 23.8945 - val_loss: 56.3629 - val_mae: 5.8419 - val_mse: 56.3629\n",
      "Epoch 93/100\n",
      "20/20 [==============================] - 0s 11ms/step - loss: 25.3415 - mae: 3.7264 - mse: 25.3415 - val_loss: 62.5061 - val_mae: 6.2988 - val_mse: 62.5061\n",
      "Epoch 94/100\n",
      "20/20 [==============================] - 0s 10ms/step - loss: 27.7820 - mae: 3.9171 - mse: 27.7820 - val_loss: 60.1480 - val_mae: 6.0358 - val_mse: 60.1480\n",
      "Epoch 95/100\n",
      "20/20 [==============================] - 1s 28ms/step - loss: 25.7918 - mae: 3.7534 - mse: 25.7918 - val_loss: 49.6393 - val_mae: 5.4102 - val_mse: 49.6393\n",
      "Epoch 96/100\n",
      "20/20 [==============================] - 0s 19ms/step - loss: 25.3007 - mae: 3.7150 - mse: 25.3007 - val_loss: 61.2339 - val_mae: 6.1914 - val_mse: 61.2339\n",
      "Epoch 97/100\n"
     ]
    },
    {
     "name": "stdout",
     "output_type": "stream",
     "text": [
      "20/20 [==============================] - 0s 23ms/step - loss: 25.2881 - mae: 3.6969 - mse: 25.2881 - val_loss: 58.2835 - val_mae: 5.9750 - val_mse: 58.2835\n",
      "Epoch 98/100\n",
      "20/20 [==============================] - 0s 16ms/step - loss: 25.7519 - mae: 3.7796 - mse: 25.7519 - val_loss: 55.6405 - val_mae: 5.8187 - val_mse: 55.6405\n",
      "Epoch 99/100\n",
      "20/20 [==============================] - 0s 21ms/step - loss: 24.5845 - mae: 3.6836 - mse: 24.5845 - val_loss: 60.8039 - val_mae: 6.1722 - val_mse: 60.8039\n",
      "Epoch 100/100\n",
      "20/20 [==============================] - 0s 22ms/step - loss: 26.0673 - mae: 3.7084 - mse: 26.0673 - val_loss: 67.7368 - val_mae: 6.6218 - val_mse: 67.7368\n"
     ]
    }
   ],
   "source": [
    "EPOCHS = 100\n",
    "\n",
    "early_stop = keras.callbacks.EarlyStopping(monitor = 'val_loss', patience = 10)\n",
    "\n",
    "history = model.fit(\n",
    "    X_train, y_train,\n",
    "    epochs = EPOCHS,\n",
    "    verbose = 1,\n",
    "    validation_data = (X_valid, y_valid),\n",
    "    #callbacks = [early_stop, tfdocs.modeling.EpochDots()]\n",
    ")"
   ]
  },
  {
   "cell_type": "markdown",
   "metadata": {},
   "source": [
    "## Evaluate the model"
   ]
  },
  {
   "cell_type": "code",
   "execution_count": 15,
   "metadata": {},
   "outputs": [
    {
     "name": "stdout",
     "output_type": "stream",
     "text": [
      "5/5 - 0s - loss: 67.7368 - mae: 6.6218 - mse: 67.7368\n"
     ]
    },
    {
     "data": {
      "text/plain": [
       "[67.73677062988281, 6.621764183044434, 67.73677062988281]"
      ]
     },
     "execution_count": 15,
     "metadata": {},
     "output_type": "execute_result"
    },
    {
     "data": {
      "image/png": "[encoded data removed]",
      "text/plain": [
       "<Figure size 432x288 with 1 Axes>"
      ]
     },
     "metadata": {
      "needs_background": "light"
     },
     "output_type": "display_data"
    }
   ],
   "source": [
    "import matplotlib.pyplot as plt\n",
    "\n",
    "plt.plot(history.history['mae'], label = 'MAE')\n",
    "plt.plot(history.history['val_mae'], label = 'val_MAE')\n",
    "plt.xlabel('Epoch')\n",
    "plt.ylabel('MAE')\n",
    "plt.ylim([0, 30])\n",
    "plt.legend(loc = 'upper right')\n",
    "\n",
    "model.evaluate(X_valid, y_valid, verbose = 2)"
   ]
  },
  {
   "cell_type": "code",
   "execution_count": 16,
   "metadata": {},
   "outputs": [
    {
     "name": "stdout",
     "output_type": "stream",
     "text": [
      "5/5 - 0s - loss: 67.7368 - mae: 6.6218 - mse: 67.7368\n"
     ]
    },
    {
     "data": {
      "text/plain": [
       "[67.73677062988281, 6.621764183044434, 67.73677062988281]"
      ]
     },
     "execution_count": 16,
     "metadata": {},
     "output_type": "execute_result"
    },
    {
     "data": {
      "image/png": "[encoded data removed]",
      "text/plain": [
       "<Figure size 432x288 with 1 Axes>"
      ]
     },
     "metadata": {
      "needs_background": "light"
     },
     "output_type": "display_data"
    }
   ],
   "source": [
    "plt.plot(history.history['mse'], label = 'MSE')\n",
    "plt.plot(history.history['val_mse'], label = 'val_MSE')\n",
    "plt.xlabel('Epoch')\n",
    "plt.ylabel('MSE')\n",
    "plt.ylim([0, 200])\n",
    "plt.legend(loc = 'upper right')\n",
    "\n",
    "model.evaluate(X_valid, y_valid, verbose = 2)"
   ]
  },
  {
   "cell_type": "markdown",
   "metadata": {},
   "source": [
    "## Make predictions"
   ]
  },
  {
   "cell_type": "code",
   "execution_count": 17,
   "metadata": {},
   "outputs": [
    {
     "data": {
      "image/png": "[encoded data removed]",
      "text/plain": [
       "<Figure size 432x288 with 1 Axes>"
      ]
     },
     "metadata": {
      "needs_background": "light"
     },
     "output_type": "display_data"
    }
   ],
   "source": [
    "preds = model.predict(X_valid).flatten()\n",
    "\n",
    "a = plt.axes(aspect = 'equal')\n",
    "plt.scatter(y_valid, preds)\n",
    "plt.xlabel('True Values')\n",
    "plt.ylabel('Predictions')\n",
    "lims = [0, 50]\n",
    "plt.xlim(lims)\n",
    "plt.ylim(lims)\n",
    "_ = plt.plot(lims, lims)"
   ]
  },
  {
   "cell_type": "markdown",
   "metadata": {},
   "source": [
    "View error distribution."
   ]
  },
  {
   "cell_type": "code",
   "execution_count": 18,
   "metadata": {},
   "outputs": [
    {
     "data": {
      "image/png": "[encoded data removed]",
      "text/plain": [
       "<Figure size 432x288 with 1 Axes>"
      ]
     },
     "metadata": {
      "needs_background": "light"
     },
     "output_type": "display_data"
    }
   ],
   "source": [
    "error = preds - y_valid\n",
    "plt.hist(error, bins = 25)\n",
    "plt.xlabel(\"Prediction Error\")\n",
    "_ = plt.ylabel(\"Count\")"
   ]
  }
 ],
 "metadata": {
  "kernelspec": {
   "display_name": "Python 3",
   "language": "python",
   "name": "python3"
  },
  "language_info": {
   "codemirror_mode": {
    "name": "ipython",
    "version": 3
   },
   "file_extension": ".py",
   "mimetype": "text/x-python",
   "name": "python",
   "nbconvert_exporter": "python",
   "pygments_lexer": "ipython3",
   "version": "3.7.6"
  }
 },
 "nbformat": 4,
 "nbformat_minor": 4
}
